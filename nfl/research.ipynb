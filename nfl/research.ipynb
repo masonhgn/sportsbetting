{
 "cells": [
  {
   "cell_type": "code",
   "execution_count": 4,
   "metadata": {},
   "outputs": [],
   "source": [
    "from tools import open_json\n"
   ]
  },
  {
   "cell_type": "code",
   "execution_count": 5,
   "metadata": {},
   "outputs": [
    {
     "name": "stdout",
     "output_type": "stream",
     "text": [
      "285\n"
     ]
    }
   ],
   "source": [
    "data = open_json('2023_season.json')\n",
    "print(len(data))"
   ]
  },
  {
   "cell_type": "code",
   "execution_count": 6,
   "metadata": {},
   "outputs": [
    {
     "name": "stdout",
     "output_type": "stream",
     "text": [
      "dict_keys(['statusCode', 'body'])\n"
     ]
    }
   ],
   "source": [
    "game1 = data['20230911_BUF@NYJ']\n",
    "print(game1.keys())"
   ]
  },
  {
   "cell_type": "code",
   "execution_count": 10,
   "metadata": {},
   "outputs": [
    {
     "name": "stdout",
     "output_type": "stream",
     "text": [
      "dict_keys(['4039007', '14053', '4035004', '3043136', '3120464', '4240090', '3125232', '4037584', '3915486', '11260', '2581273', '3122168', '3895791', '3125114', '3916577', '2976549', '3917660', '3930086', '4033748', '2977679', '3046287', '4569618', '4240456', '4240896', '4240532', '4427366', '3051324', '3117258', '4240657', '4428696', '3042717', '16910', '3895798', '16759', '4411193', '3121003', '4361767', '2582132', '13493', '2983155', '3128390', '3929956', '4240585', '4427250', '4567962', '3858271', '4243537', '2577466', '4039375', '3929631', '16720', '4379399', '2970625', '4037521', '4039303', '2512477', '15960', '4361259', '2577078', '3918298', '3139387', '4361331', '4259646', '4030899', '2976249', '4039505', '4361372', '15928', '3057524', '3110565', '4259166', '3925347', '15920', '4040982', '14993', '4568624', '2577637', '4035232', '4385690', '3116593', '3917232', '2976212', '2574576', '4428681', '4427278', '4373678', '8439', '2577367', '2514122', '4379778', '4362506', '15979', '4244049', '12701'])\n",
      "{'gameID': '20230911_BUF@NYJ', 'teamID': '4', 'snapCounts': {'offSnapPct': '0.00', 'defSnap': '17', 'stSnap': '0', 'stSnapPct': '0.00', 'offSnap': '0', 'defSnapPct': '0.31'}, 'team': 'BUF', 'teamAbv': 'BUF', 'Defense': {'totalTackles': '3', 'defTD': '0', 'forcedFumbles': '0', 'soloTackles': '3', 'tfl': '1', 'qbHits': '1', 'defensiveInterceptions': '0', 'sacks': '1', 'passDeflections': '0'}, 'playerID': '2577466', 'longName': 'Jordan Phillips'}\n"
     ]
    }
   ],
   "source": [
    "print(game1['body']['playerStats'].keys())\n",
    "print(game1['body']['playerStats']['2577466'])"
   ]
  },
  {
   "cell_type": "code",
   "execution_count": 7,
   "metadata": {},
   "outputs": [],
   "source": [
    "#for all games, we want log the stats of each participating player.\n",
    "\n",
    "all_players = {}\n",
    "\n",
    "\n",
    "for game_id in data.keys():\n",
    "    player_stats = data[game_id]['body']['playerStats']\n",
    "    for player_id, player_stat in player_stats.items():\n",
    "        if player_id not in all_players: all_players[player_id] = []\n",
    "        all_players[player_id].append(player_stat)\n"
   ]
  },
  {
   "cell_type": "code",
   "execution_count": 8,
   "metadata": {},
   "outputs": [
    {
     "name": "stdout",
     "output_type": "stream",
     "text": [
      "2145\n"
     ]
    }
   ],
   "source": [
    "\n",
    "print(len(all_players))\n"
   ]
  },
  {
   "cell_type": "code",
   "execution_count": 28,
   "metadata": {},
   "outputs": [
    {
     "name": "stdout",
     "output_type": "stream",
     "text": [
      "['5', '1', '1', '6', '1', '1', '3', '7', '3', '3', '8', '9', '1', '1']\n"
     ]
    }
   ],
   "source": [
    "#let's get the total tackles across a whole season of a specific player\n",
    "\n",
    "taylor = all_players['4039007']\n",
    "season_tackles = [taylor[i]['Defense']['totalTackles'] for i in range(len(taylor)) if 'Defense' in taylor[i]]\n",
    "print(season_tackles)"
   ]
  },
  {
   "cell_type": "code",
   "execution_count": 9,
   "metadata": {},
   "outputs": [],
   "source": [
    "all_players_clean = {}\n",
    "\n",
    "# let's try separating players by position\n",
    "for player_id, player_stat in all_players.items():\n",
    "    if len(player_stat) > 6:\n",
    "        all_players_clean[player_id] = player_stat"
   ]
  },
  {
   "cell_type": "code",
   "execution_count": 49,
   "metadata": {},
   "outputs": [],
   "source": [
    "#print(len(all_players_clean))\n",
    "import numpy as np\n",
    "\n",
    "#get average size of player stats\n",
    "#print(np.mean(np.array([len(player_stat) for player_stat in all_players_clean.values()])))\n",
    "\n",
    "\n",
    "player_names = [player[0]['longName'] for player in all_players_clean.values()]"
   ]
  },
  {
   "cell_type": "code",
   "execution_count": 50,
   "metadata": {},
   "outputs": [
    {
     "name": "stdout",
     "output_type": "stream",
     "text": [
      "1674\n",
      "1669\n",
      "1674\n"
     ]
    }
   ],
   "source": [
    "print(len(player_names))\n",
    "print(len(set(player_names)))\n",
    "print(len(all_players_clean.items()))"
   ]
  },
  {
   "cell_type": "code",
   "execution_count": 45,
   "metadata": {},
   "outputs": [
    {
     "name": "stdout",
     "output_type": "stream",
     "text": [
      "{'gameID': '20240115_PIT@BUF', 'teamID': '26', 'snapCounts': {'offSnapPct': '0.00', 'defSnap': '49', 'stSnap': '8', 'stSnapPct': '0.30', 'offSnap': '0', 'defSnapPct': '0.73'}, 'team': 'PIT', 'teamAbv': 'PIT', 'Defense': {'totalTackles': '2', 'defTD': '0', 'forcedFumbles': '0', 'soloTackles': '2', 'tfl': '0', 'qbHits': '0', 'defensiveInterceptions': '0', 'sacks': '0', 'passDeflections': '0'}, 'playerID': '4426506', 'longName': 'Joey Porter Jr.'}\n",
      "Joey Porter Jr.\n",
      "4426506\n"
     ]
    }
   ],
   "source": [
    "import random\n",
    "rand_player = random.randint(0,len(all_players_clean))\n",
    "rand_id = list(all_players_clean.keys())[rand_player]\n",
    "print(all_players_clean[rand_id][0])\n",
    "print(all_players_clean[rand_id][0]['longName'])\n",
    "print(all_players_clean[rand_id][0]['playerID'])"
   ]
  },
  {
   "cell_type": "code",
   "execution_count": 48,
   "metadata": {},
   "outputs": [
    {
     "name": "stdout",
     "output_type": "stream",
     "text": [
      "Bijan Robinson\n",
      "{'fumblesLost': '1', 'defensiveInterceptions': '0', 'forcedFumbles': '0', 'fumbles': '1', 'fumblesRecovered': '0'}\n"
     ]
    },
    {
     "ename": "KeyError",
     "evalue": "'totalTackles'",
     "output_type": "error",
     "traceback": [
      "\u001b[1;31m---------------------------------------------------------------------------\u001b[0m",
      "\u001b[1;31mKeyError\u001b[0m                                  Traceback (most recent call last)",
      "Cell \u001b[1;32mIn[48], line 62\u001b[0m\n\u001b[0;32m     58\u001b[0m             player\u001b[38;5;241m.\u001b[39mtotal_passDeflections\u001b[38;5;241m.\u001b[39mappend(\u001b[38;5;28mfloat\u001b[39m(df[\u001b[38;5;124m'\u001b[39m\u001b[38;5;124mpassDeflections\u001b[39m\u001b[38;5;124m'\u001b[39m]))\n\u001b[0;32m     61\u001b[0m pid \u001b[38;5;241m=\u001b[39m \u001b[38;5;124m'\u001b[39m\u001b[38;5;124m4430807\u001b[39m\u001b[38;5;124m'\u001b[39m\n\u001b[1;32m---> 62\u001b[0m p \u001b[38;5;241m=\u001b[39m \u001b[43mrecord_player_season_stats\u001b[49m\u001b[43m(\u001b[49m\u001b[43mpid\u001b[49m\u001b[43m,\u001b[49m\u001b[43m \u001b[49m\u001b[43mall_players_clean\u001b[49m\u001b[43m)\u001b[49m\n",
      "Cell \u001b[1;32mIn[48], line 53\u001b[0m, in \u001b[0;36mrecord_player_season_stats\u001b[1;34m(player_id, all_players_dict)\u001b[0m\n\u001b[0;32m     51\u001b[0m df \u001b[38;5;241m=\u001b[39m game[\u001b[38;5;124m'\u001b[39m\u001b[38;5;124mDefense\u001b[39m\u001b[38;5;124m'\u001b[39m]\n\u001b[0;32m     52\u001b[0m \u001b[38;5;28mprint\u001b[39m(df)\n\u001b[1;32m---> 53\u001b[0m player\u001b[38;5;241m.\u001b[39mtotal_totalTackles\u001b[38;5;241m.\u001b[39mappend(\u001b[38;5;28mfloat\u001b[39m(\u001b[43mdf\u001b[49m\u001b[43m[\u001b[49m\u001b[38;5;124;43m'\u001b[39;49m\u001b[38;5;124;43mtotalTackles\u001b[39;49m\u001b[38;5;124;43m'\u001b[39;49m\u001b[43m]\u001b[49m))\n\u001b[0;32m     54\u001b[0m player\u001b[38;5;241m.\u001b[39mtotal_soloTackles\u001b[38;5;241m.\u001b[39mappend(\u001b[38;5;28mfloat\u001b[39m(df[\u001b[38;5;124m'\u001b[39m\u001b[38;5;124msoloTackles\u001b[39m\u001b[38;5;124m'\u001b[39m]))\n\u001b[0;32m     55\u001b[0m player\u001b[38;5;241m.\u001b[39mtotal_forcedFumbles\u001b[38;5;241m.\u001b[39mappend(\u001b[38;5;28mfloat\u001b[39m(df[\u001b[38;5;124m'\u001b[39m\u001b[38;5;124mforcedFumbles\u001b[39m\u001b[38;5;124m'\u001b[39m]))\n",
      "\u001b[1;31mKeyError\u001b[0m: 'totalTackles'"
     ]
    }
   ],
   "source": [
    "from player import Player\n",
    "\n",
    "def record_player_season_stats(player_id: str, all_players_dict: dict) -> Player:\n",
    "    assert player_id in all_players_dict.keys() and len(list(all_players_dict[player_id])) >= 8\n",
    "\n",
    "    player_name = all_players_dict[player_id][0]['longName']\n",
    "    print(player_name)\n",
    "    player = Player(player_id, player_name)\n",
    "    \n",
    "    entire_season = all_players_dict[player_id]\n",
    "\n",
    "    for game in entire_season:\n",
    "        player.total_games_recorded += 1\n",
    "        if 'snapCounts' in game:\n",
    "            sc = game['snapCounts']\n",
    "            player.total_offensive_snapPct.append(float(sc['offSnapPct']))\n",
    "            player.total_offensive_snaps.append(float(sc['offSnap']))\n",
    "\n",
    "            player.total_defensive_snapPct.append(float(sc['defSnapPct']))\n",
    "            player.total_defensive_snaps.append(float(sc['defSnap']))\n",
    "\n",
    "            player.total_st_snapPct.append(float(sc['stSnapPct']))\n",
    "            player.total_st_snaps.append(float(sc['stSnap']))\n",
    "\n",
    "        if 'Rushing' in game:\n",
    "            rs = game['Rushing']\n",
    "            player.total_rushAvg.append(float(rs['rushAvg']))\n",
    "            player.total_rushYds.append(float(rs['rushYds']))\n",
    "            player.total_carries.append(float(rs['carries']))\n",
    "            player.total_rushTD.append(float(rs['rushTD']))\n",
    "\n",
    "        if 'Receiving' in game:\n",
    "            rc = game['Receiving']\n",
    "            player.total_receptions.append(float(rc['receptions']))\n",
    "            player.total_recYds.append(float(rc['recYds']))\n",
    "            player.total_recAvg.append(float(rc['recAvg']))\n",
    "            player.total_targets.append(float(rc['targets']))\n",
    "\n",
    "        if 'Passing' in game:\n",
    "            ps = game['Passing']\n",
    "            player.total_qbr.append(float(ps['qbr']))\n",
    "            player.total_rtg.append(float(ps['rtg']))\n",
    "            player.total_passAttempts.append(float(ps['passAttempts']))\n",
    "            player.total_passAvg.append(float(ps['passAvg']))\n",
    "            player.total_passTD.append(float(ps['passTD']))\n",
    "            player.total_passYds.append(float(ps['passYds']))\n",
    "            player.total_int.append(float(ps['int']))\n",
    "            player.total_passCompletions.append(float(ps['passCompletions']))\n",
    "\n",
    "        if 'Defense' in game:\n",
    "            df = game['Defense']\n",
    "            print(df)\n",
    "            player.total_totalTackles.append(float(df['totalTackles']))\n",
    "            player.total_soloTackles.append(float(df['soloTackles']))\n",
    "            player.total_forcedFumbles.append(float(df['forcedFumbles']))\n",
    "            player.total_sacks.append(float(df['sacks']))\n",
    "            player.total_defInterceptions.append(float(df['defensiveInterceptions']))\n",
    "            player.total_passDeflections.append(float(df['passDeflections']))\n",
    "\n",
    "\n",
    "pid = '4430807'\n",
    "p = record_player_season_stats(pid, all_players_clean)"
   ]
  },
  {
   "cell_type": "code",
   "execution_count": 10,
   "metadata": {},
   "outputs": [
    {
     "name": "stdout",
     "output_type": "stream",
     "text": [
      "Data has been saved to all_players_clean_2023.json\n"
     ]
    }
   ],
   "source": [
    "from tools import save_json\n",
    "\n",
    "save_json('all_players_clean_2023.json',all_players_clean)"
   ]
  }
 ],
 "metadata": {
  "kernelspec": {
   "display_name": "Python 3",
   "language": "python",
   "name": "python3"
  },
  "language_info": {
   "codemirror_mode": {
    "name": "ipython",
    "version": 3
   },
   "file_extension": ".py",
   "mimetype": "text/x-python",
   "name": "python",
   "nbconvert_exporter": "python",
   "pygments_lexer": "ipython3",
   "version": "3.10.11"
  }
 },
 "nbformat": 4,
 "nbformat_minor": 2
}
