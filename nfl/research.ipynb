{
 "cells": [
  {
   "cell_type": "code",
   "execution_count": 4,
   "metadata": {},
   "outputs": [],
   "source": [
    "from tools import open_json\n"
   ]
  },
  {
   "cell_type": "code",
   "execution_count": 2,
   "metadata": {},
   "outputs": [
    {
     "name": "stdout",
     "output_type": "stream",
     "text": [
      "285\n"
     ]
    }
   ],
   "source": [
    "data = open_json('2023_season.json')\n",
    "print(len(data))"
   ]
  },
  {
   "cell_type": "code",
   "execution_count": 6,
   "metadata": {},
   "outputs": [
    {
     "name": "stdout",
     "output_type": "stream",
     "text": [
      "dict_keys(['statusCode', 'body'])\n"
     ]
    }
   ],
   "source": [
    "game1 = data['20230911_BUF@NYJ']\n",
    "print(game1.keys())"
   ]
  },
  {
   "cell_type": "code",
   "execution_count": 10,
   "metadata": {},
   "outputs": [
    {
     "name": "stdout",
     "output_type": "stream",
     "text": [
      "dict_keys(['4039007', '14053', '4035004', '3043136', '3120464', '4240090', '3125232', '4037584', '3915486', '11260', '2581273', '3122168', '3895791', '3125114', '3916577', '2976549', '3917660', '3930086', '4033748', '2977679', '3046287', '4569618', '4240456', '4240896', '4240532', '4427366', '3051324', '3117258', '4240657', '4428696', '3042717', '16910', '3895798', '16759', '4411193', '3121003', '4361767', '2582132', '13493', '2983155', '3128390', '3929956', '4240585', '4427250', '4567962', '3858271', '4243537', '2577466', '4039375', '3929631', '16720', '4379399', '2970625', '4037521', '4039303', '2512477', '15960', '4361259', '2577078', '3918298', '3139387', '4361331', '4259646', '4030899', '2976249', '4039505', '4361372', '15928', '3057524', '3110565', '4259166', '3925347', '15920', '4040982', '14993', '4568624', '2577637', '4035232', '4385690', '3116593', '3917232', '2976212', '2574576', '4428681', '4427278', '4373678', '8439', '2577367', '2514122', '4379778', '4362506', '15979', '4244049', '12701'])\n",
      "{'gameID': '20230911_BUF@NYJ', 'teamID': '4', 'snapCounts': {'offSnapPct': '0.00', 'defSnap': '17', 'stSnap': '0', 'stSnapPct': '0.00', 'offSnap': '0', 'defSnapPct': '0.31'}, 'team': 'BUF', 'teamAbv': 'BUF', 'Defense': {'totalTackles': '3', 'defTD': '0', 'forcedFumbles': '0', 'soloTackles': '3', 'tfl': '1', 'qbHits': '1', 'defensiveInterceptions': '0', 'sacks': '1', 'passDeflections': '0'}, 'playerID': '2577466', 'longName': 'Jordan Phillips'}\n"
     ]
    }
   ],
   "source": [
    "print(game1['body']['playerStats'].keys())\n",
    "print(game1['body']['playerStats']['2577466'])"
   ]
  },
  {
   "cell_type": "code",
   "execution_count": 7,
   "metadata": {},
   "outputs": [],
   "source": [
    "#for all games, we want log the stats of each participating player.\n",
    "\n",
    "all_players = {}\n",
    "\n",
    "\n",
    "for game_id in data.keys():\n",
    "    player_stats = data[game_id]['body']['playerStats']\n",
    "    for player_id, player_stat in player_stats.items():\n",
    "        if player_id not in all_players: all_players[player_id] = []\n",
    "        all_players[player_id].append(player_stat)\n"
   ]
  },
  {
   "cell_type": "code",
   "execution_count": 8,
   "metadata": {},
   "outputs": [
    {
     "name": "stdout",
     "output_type": "stream",
     "text": [
      "2145\n"
     ]
    }
   ],
   "source": [
    "\n",
    "print(len(all_players))\n"
   ]
  },
  {
   "cell_type": "code",
   "execution_count": 28,
   "metadata": {},
   "outputs": [
    {
     "name": "stdout",
     "output_type": "stream",
     "text": [
      "['5', '1', '1', '6', '1', '1', '3', '7', '3', '3', '8', '9', '1', '1']\n"
     ]
    }
   ],
   "source": [
    "#let's get the total tackles across a whole season of a specific player\n",
    "\n",
    "taylor = all_players['4039007']\n",
    "season_tackles = [taylor[i]['Defense']['totalTackles'] for i in range(len(taylor)) if 'Defense' in taylor[i]]\n",
    "print(season_tackles)"
   ]
  },
  {
   "cell_type": "code",
   "execution_count": 9,
   "metadata": {},
   "outputs": [],
   "source": [
    "all_players_clean = {}\n",
    "\n",
    "# let's try separating players by position\n",
    "for player_id, player_stat in all_players.items():\n",
    "    if len(player_stat) > 6:\n",
    "        all_players_clean[player_id] = player_stat"
   ]
  },
  {
   "cell_type": "code",
   "execution_count": 49,
   "metadata": {},
   "outputs": [],
   "source": [
    "#print(len(all_players_clean))\n",
    "import numpy as np\n",
    "\n",
    "#get average size of player stats\n",
    "#print(np.mean(np.array([len(player_stat) for player_stat in all_players_clean.values()])))\n",
    "\n",
    "\n",
    "player_names = [player[0]['longName'] for player in all_players_clean.values()]"
   ]
  },
  {
   "cell_type": "code",
   "execution_count": 5,
   "metadata": {},
   "outputs": [],
   "source": [
    "all_players_clean = open_json('all_players_clean_2023.json')"
   ]
  },
  {
   "cell_type": "code",
   "execution_count": 4,
   "metadata": {},
   "outputs": [
    {
     "ename": "NameError",
     "evalue": "name 'player_names' is not defined",
     "output_type": "error",
     "traceback": [
      "\u001b[0;31m---------------------------------------------------------------------------\u001b[0m",
      "\u001b[0;31mNameError\u001b[0m                                 Traceback (most recent call last)",
      "Cell \u001b[0;32mIn[4], line 1\u001b[0m\n\u001b[0;32m----> 1\u001b[0m \u001b[38;5;28mprint\u001b[39m(\u001b[38;5;28mlen\u001b[39m(\u001b[43mplayer_names\u001b[49m))\n\u001b[1;32m      2\u001b[0m \u001b[38;5;28mprint\u001b[39m(\u001b[38;5;28mlen\u001b[39m(\u001b[38;5;28mset\u001b[39m(player_names)))\n\u001b[1;32m      3\u001b[0m \u001b[38;5;28mprint\u001b[39m(\u001b[38;5;28mlen\u001b[39m(all_players_clean\u001b[38;5;241m.\u001b[39mitems()))\n",
      "\u001b[0;31mNameError\u001b[0m: name 'player_names' is not defined"
     ]
    }
   ],
   "source": [
    "print(len(player_names))\n",
    "print(len(set(player_names)))\n",
    "print(len(all_players_clean.items()))"
   ]
  },
  {
   "cell_type": "code",
   "execution_count": 6,
   "metadata": {},
   "outputs": [
    {
     "name": "stdout",
     "output_type": "stream",
     "text": [
      "{'gameID': '20230911_BUF@NYJ', 'teamID': '25', 'snapCounts': {'offSnapPct': '0.00', 'defSnap': '69', 'stSnap': '4', 'stSnapPct': '0.15', 'offSnap': '0', 'defSnapPct': '1.00'}, 'team': 'NYJ', 'teamAbv': 'NYJ', 'Defense': {'totalTackles': '7', 'defTD': '0', 'forcedFumbles': '0', 'soloTackles': '5', 'tfl': '0', 'qbHits': '0', 'defensiveInterceptions': '0', 'sacks': '0', 'passDeflections': '0'}, 'playerID': '16720', 'longName': 'C.J. Mosley'}\n",
      "C.J. Mosley\n",
      "16720\n"
     ]
    }
   ],
   "source": [
    "import random\n",
    "rand_player = random.randint(0,len(all_players_clean))\n",
    "rand_id = list(all_players_clean.keys())[rand_player]\n",
    "print(all_players_clean[rand_id][0])\n",
    "print(all_players_clean[rand_id][0]['longName'])\n",
    "print(all_players_clean[rand_id][0]['playerID'])"
   ]
  },
  {
   "cell_type": "code",
   "execution_count": 7,
   "metadata": {},
   "outputs": [],
   "source": [
    "from player import Player\n",
    "\n",
    "play = Player('f','a')\n",
    "play.total_forcedFumbles.append('a')\n"
   ]
  },
  {
   "cell_type": "code",
   "execution_count": 14,
   "metadata": {},
   "outputs": [
    {
     "name": "stdout",
     "output_type": "stream",
     "text": [
      "Bijan Robinson\n"
     ]
    }
   ],
   "source": [
    "from player import Player\n",
    "\n",
    "def record_player_season_stats(player_id: str, all_players_dict: dict, season: int, existing_player: Player = None) -> Player:\n",
    "    assert player_id in all_players_dict.keys() and len(list(all_players_dict[player_id])) >= 8\n",
    "    assert 1970 <= season <= 2024\n",
    "    player_name = all_players_dict[player_id][0]['longName']\n",
    "    print(player_name)\n",
    "    \n",
    "    player = Player(player_id, player_name) if not existing_player else existing_player\n",
    "    \n",
    "    entire_season = all_players_dict[player_id]\n",
    "\n",
    "    for game in entire_season:\n",
    "        player.total_games_recorded += 1\n",
    "        if 'snapCounts' in game:\n",
    "            sc = game['snapCounts']\n",
    "            for stat_name in ['offSnapPct','offSnap','defSnapPct','defSnap','stSnapPct','stSnap']:\n",
    "                if stat_name in sc:\n",
    "                    player.add_stat(season, stat_name, float(sc[stat_name]))\n",
    "\n",
    "        if 'Rushing' in game:\n",
    "            rs = game['Rushing']\n",
    "            for stat_name in ['rushAvg','rushYds','carries','rushTD']:\n",
    "                if stat_name in rs:\n",
    "                    player.add_stat(season, stat_name, float(rs[stat_name]))\n",
    "\n",
    "        if 'Receiving' in game:\n",
    "            rc = game['Receiving']\n",
    "            for stat_name in ['receptions','recYds','recAvg','targets']:\n",
    "                if stat_name in rc:\n",
    "                    player.add_stat(season, stat_name, float(rc[stat_name]))\n",
    "\n",
    "        if 'Passing' in game:\n",
    "            ps = game['Passing']\n",
    "            for stat_name in ['qbr','rtg','passAttempts','passAvg','passTD','passYds','int','passCompletions']:\n",
    "                if stat_name in ps:\n",
    "                    player.add_stat(season, stat_name, float(ps[stat_name]))\n",
    "\n",
    "        if 'Defense' in game:\n",
    "            df = game['Defense']\n",
    "            for stat_name in ['totalTackles','soloTackles','forcedFumbles','sacks','defensiveInterceptions','passDeflections']:\n",
    "                if stat_name in df:\n",
    "                    player.add_stat(season, stat_name, float(df[stat_name]))\n",
    "\n",
    "    return player\n",
    "\n",
    "\n",
    "pid = '4430807'\n",
    "\n",
    "p = record_player_season_stats(pid, all_players_clean)"
   ]
  },
  {
   "cell_type": "code",
   "execution_count": 10,
   "metadata": {},
   "outputs": [
    {
     "name": "stdout",
     "output_type": "stream",
     "text": [
      "Data has been saved to all_players_clean_2023.json\n"
     ]
    }
   ],
   "source": [
    "from tools import save_json\n",
    "\n",
    "save_json('all_players_clean_2023.json',all_players_clean)"
   ]
  },
  {
   "cell_type": "code",
   "execution_count": 18,
   "metadata": {},
   "outputs": [
    {
     "name": "stdout",
     "output_type": "stream",
     "text": [
      "{\n",
      "  \"total_games_recorded\": 17,\n",
      "  \"player_id\": \"4430807\",\n",
      "  \"full_name\": \"Bijan Robinson\",\n",
      "  \"total_offensive_snapPct\": [\n",
      "    0.75,\n",
      "    0.61,\n",
      "    0.75,\n",
      "    0.76,\n",
      "    0.74,\n",
      "    0.77,\n",
      "    0.81,\n",
      "    0.61,\n",
      "    0.72,\n",
      "    0.76,\n",
      "    0.17,\n",
      "    0.78,\n",
      "    0.63,\n",
      "    0.75,\n",
      "    0.63,\n",
      "    0.58,\n",
      "    0.74\n",
      "  ],\n",
      "  \"total_offensive_snaps\": [\n",
      "    51.0,\n",
      "    47.0,\n",
      "    48.0,\n",
      "    44.0,\n",
      "    50.0,\n",
      "    64.0,\n",
      "    54.0,\n",
      "    42.0,\n",
      "    59.0,\n",
      "    45.0,\n",
      "    11.0,\n",
      "    56.0,\n",
      "    33.0,\n",
      "    53.0,\n",
      "    39.0,\n",
      "    30.0,\n",
      "    45.0\n",
      "  ],\n",
      "  \"total_defensive_snapPct\": [\n",
      "    0.0,\n",
      "    0.0,\n",
      "    0.0,\n",
      "    0.0,\n",
      "    0.0,\n",
      "    0.0,\n",
      "    0.0,\n",
      "    0.0,\n",
      "    0.0,\n",
      "    0.0,\n",
      "    0.0,\n",
      "    0.0,\n",
      "    0.0,\n",
      "    0.0,\n",
      "    0.0,\n",
      "    0.0,\n",
      "    0.0\n",
      "  ],\n",
      "  \"total_defensive_snaps\": [\n",
      "    0.0,\n",
      "    0.0,\n",
      "    0.0,\n",
      "    0.0,\n",
      "    0.0,\n",
      "    0.0,\n",
      "    0.0,\n",
      "    0.0,\n",
      "    0.0,\n",
      "    0.0,\n",
      "    0.0,\n",
      "    0.0,\n",
      "    0.0,\n",
      "    0.0,\n",
      "    0.0,\n",
      "    0.0,\n",
      "    0.0\n",
      "  ],\n",
      "  \"total_st_snapPct\": [\n",
      "    0.0,\n",
      "    0.0,\n",
      "    0.0,\n",
      "    0.0,\n",
      "    0.0,\n",
      "    0.0,\n",
      "    0.0,\n",
      "    0.0,\n",
      "    0.0,\n",
      "    0.0,\n",
      "    0.0,\n",
      "    0.0,\n",
      "    0.0,\n",
      "    0.04,\n",
      "    0.0,\n",
      "    0.0,\n",
      "    0.0\n",
      "  ],\n",
      "  \"total_st_snaps\": [\n",
      "    0.0,\n",
      "    0.0,\n",
      "    0.0,\n",
      "    0.0,\n",
      "    0.0,\n",
      "    0.0,\n",
      "    0.0,\n",
      "    0.0,\n",
      "    0.0,\n",
      "    0.0,\n",
      "    0.0,\n",
      "    0.0,\n",
      "    0.0,\n",
      "    1.0,\n",
      "    0.0,\n",
      "    0.0,\n",
      "    0.0\n",
      "  ],\n",
      "  \"total_rushAvg\": [\n",
      "    2.9,\n",
      "    3.3,\n",
      "    6.0,\n",
      "    7.5,\n",
      "    5.6,\n",
      "    2.8,\n",
      "    3.3,\n",
      "    4.6,\n",
      "    6.5,\n",
      "    5.0,\n",
      "    3.0,\n",
      "    3.4,\n",
      "    5.6,\n",
      "    4.3,\n",
      "    5.7,\n",
      "    1.6,\n",
      "    2.5\n",
      "  ],\n",
      "  \"total_rushYds\": [\n",
      "    53.0,\n",
      "    46.0,\n",
      "    72.0,\n",
      "    105.0,\n",
      "    62.0,\n",
      "    37.0,\n",
      "    33.0,\n",
      "    51.0,\n",
      "    124.0,\n",
      "    75.0,\n",
      "    3.0,\n",
      "    34.0,\n",
      "    56.0,\n",
      "    95.0,\n",
      "    91.0,\n",
      "    11.0,\n",
      "    28.0\n",
      "  ],\n",
      "  \"total_carries\": [\n",
      "    18.0,\n",
      "    14.0,\n",
      "    12.0,\n",
      "    14.0,\n",
      "    11.0,\n",
      "    13.0,\n",
      "    10.0,\n",
      "    11.0,\n",
      "    19.0,\n",
      "    15.0,\n",
      "    1.0,\n",
      "    10.0,\n",
      "    10.0,\n",
      "    22.0,\n",
      "    16.0,\n",
      "    7.0,\n",
      "    11.0\n",
      "  ],\n",
      "  \"total_rushTD\": [\n",
      "    0.0,\n",
      "    0.0,\n",
      "    0.0,\n",
      "    0.0,\n",
      "    1.0,\n",
      "    0.0,\n",
      "    0.0,\n",
      "    0.0,\n",
      "    0.0,\n",
      "    0.0,\n",
      "    0.0,\n",
      "    1.0,\n",
      "    0.0,\n",
      "    1.0,\n",
      "    1.0,\n",
      "    0.0,\n",
      "    0.0\n",
      "  ],\n",
      "  \"total_receptions\": [\n",
      "    3.0,\n",
      "    2.0,\n",
      "    7.0,\n",
      "    5.0,\n",
      "    0.0,\n",
      "    5.0,\n",
      "    4.0,\n",
      "    2.0,\n",
      "    4.0,\n",
      "    3.0,\n",
      "    5.0,\n",
      "    6.0,\n",
      "    1.0,\n",
      "    3.0,\n",
      "    1.0,\n",
      "    7.0\n",
      "  ],\n",
      "  \"total_recYds\": [\n",
      "    26.0,\n",
      "    12.0,\n",
      "    50.0,\n",
      "    32.0,\n",
      "    0.0,\n",
      "    43.0,\n",
      "    27.0,\n",
      "    8.0,\n",
      "    48.0,\n",
      "    11.0,\n",
      "    54.0,\n",
      "    27.0,\n",
      "    11.0,\n",
      "    32.0,\n",
      "    3.0,\n",
      "    103.0\n",
      "  ],\n",
      "  \"total_recAvg\": [\n",
      "    8.7,\n",
      "    6.0,\n",
      "    7.1,\n",
      "    6.4,\n",
      "    0.0,\n",
      "    8.6,\n",
      "    6.8,\n",
      "    4.0,\n",
      "    12.0,\n",
      "    3.7,\n",
      "    10.8,\n",
      "    4.5,\n",
      "    11.0,\n",
      "    10.7,\n",
      "    3.0,\n",
      "    14.7\n",
      "  ],\n",
      "  \"total_targets\": [\n",
      "    5.0,\n",
      "    2.0,\n",
      "    10.0,\n",
      "    5.0,\n",
      "    5.0,\n",
      "    8.0,\n",
      "    6.0,\n",
      "    4.0,\n",
      "    5.0,\n",
      "    4.0,\n",
      "    7.0,\n",
      "    6.0,\n",
      "    2.0,\n",
      "    6.0,\n",
      "    3.0,\n",
      "    8.0\n",
      "  ],\n",
      "  \"total_qbr\": [],\n",
      "  \"total_rtg\": [],\n",
      "  \"total_passAttempts\": [],\n",
      "  \"total_passAvg\": [],\n",
      "  \"total_passTD\": [],\n",
      "  \"total_passYds\": [],\n",
      "  \"total_int\": [],\n",
      "  \"total_passCompletions\": [],\n",
      "  \"total_totalTackles\": [\n",
      "    1.0,\n",
      "    1.0\n",
      "  ],\n",
      "  \"total_soloTackles\": [\n",
      "    1.0,\n",
      "    1.0\n",
      "  ],\n",
      "  \"total_forcedFumbles\": [\n",
      "    0.0,\n",
      "    0.0,\n",
      "    0.0,\n",
      "    0.0,\n",
      "    0.0\n",
      "  ],\n",
      "  \"total_sacks\": [\n",
      "    0.0,\n",
      "    0.0\n",
      "  ],\n",
      "  \"total_defInterceptions\": [\n",
      "    0.0,\n",
      "    0.0,\n",
      "    0.0,\n",
      "    0.0,\n",
      "    0.0\n",
      "  ],\n",
      "  \"total_passDeflections\": [\n",
      "    0.0,\n",
      "    0.0\n",
      "  ]\n",
      "}\n"
     ]
    }
   ],
   "source": [
    "import json\n",
    "print(json.dumps(p.__dict__,indent=2))"
   ]
  }
 ],
 "metadata": {
  "kernelspec": {
   "display_name": "Python 3",
   "language": "python",
   "name": "python3"
  },
  "language_info": {
   "codemirror_mode": {
    "name": "ipython",
    "version": 3
   },
   "file_extension": ".py",
   "mimetype": "text/x-python",
   "name": "python",
   "nbconvert_exporter": "python",
   "pygments_lexer": "ipython3",
   "version": "3.13.1"
  }
 },
 "nbformat": 4,
 "nbformat_minor": 2
}
