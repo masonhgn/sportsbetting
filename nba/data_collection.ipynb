{
 "cells": [
  {
   "cell_type": "code",
   "execution_count": 1,
   "metadata": {},
   "outputs": [],
   "source": [
    "from DataLoader import DataLoader\n",
    "from Player import Player\n",
    "from CollectiveStats import CollectiveStats\n",
    "from tools import save_json, open_json, compare_dates\n",
    "import time\n",
    "import requests\n",
    "from pprint import pprint"
   ]
  },
  {
   "cell_type": "code",
   "execution_count": null,
   "metadata": {},
   "outputs": [],
   "source": [
    "from DataLoader import DataLoader\n",
    "from Player import Player\n",
    "from CollectiveStats import CollectiveStats\n",
    "from tools import save_json, open_json, compare_dates\n",
    "import time\n",
    "import requests\n",
    "from pprint import pprint"
   ]
  },
  {
   "cell_type": "code",
   "execution_count": null,
   "metadata": {},
   "outputs": [],
   "source": [
    "#this gets all of the seasons we can scrape\n",
    "\n",
    "\n",
    "url = \"https://api-nba-v1.p.rapidapi.com/seasons\"\n",
    "\n",
    "headers = {\n",
    "\t\"x-rapidapi-key\": \"6d8471b900msh64f82e14a3ea8c4p1e6eedjsn363222b8f5fe\",\n",
    "\t\"x-rapidapi-host\": \"api-nba-v1.p.rapidapi.com\"\n",
    "}\n",
    "\n",
    "response = requests.get(url, headers=headers)\n",
    "\n",
    "print(response.json())"
   ]
  },
  {
   "cell_type": "code",
   "execution_count": null,
   "metadata": {},
   "outputs": [],
   "source": [
    "#https://rapidapi.com/api-sports/api/api-nba/playground/apiendpoint_5b1e1e9a-1497-45b5-b9fb-50f9212d4421\n",
    "\n",
    "#player statistics per game id\n",
    "\n",
    "\n",
    "\n",
    "\n",
    "url = \"https://api-nba-v1.p.rapidapi.com/players/statistics\"\n",
    "\n",
    "querystring = {\"game\":\"8133\"}\n",
    "\n",
    "headers = {\n",
    "\t\"x-rapidapi-key\": \"6d8471b900msh64f82e14a3ea8c4p1e6eedjsn363222b8f5fe\",\n",
    "\t\"x-rapidapi-host\": \"api-nba-v1.p.rapidapi.com\"\n",
    "}\n",
    "\n",
    "response = requests.get(url, headers=headers, params=querystring)\n",
    "\n",
    "print(response.json())\n"
   ]
  },
  {
   "cell_type": "code",
   "execution_count": null,
   "metadata": {},
   "outputs": [],
   "source": [
    "#https://rapidapi.com/api-sports/api/api-nba/playground/apiendpoint_be16eeb7-56ae-4b3b-93c8-a6392c29626e\n",
    "\n",
    "#games per season\n",
    "\n",
    "\n",
    "\n",
    "\n",
    "\n",
    "def games_per_season(season: int) -> dict:\n",
    "    season = str(season)\n",
    "    url = \"https://api-nba-v1.p.rapidapi.com/games\"\n",
    "\n",
    "    querystring = {\"season\":season}\n",
    "\n",
    "    headers = {\n",
    "        \"x-rapidapi-key\": \"6d8471b900msh64f82e14a3ea8c4p1e6eedjsn363222b8f5fe\",\n",
    "        \"x-rapidapi-host\": \"api-nba-v1.p.rapidapi.com\"\n",
    "    }\n",
    "\n",
    "    response = requests.get(url, headers=headers, params=querystring)\n",
    "\n",
    "    return response.json()\n",
    "\n",
    "\n",
    "seasons = [2015, 2016, 2017, 2018, 2019, 2020, 2021, 2022, 2023, 2024]\n",
    "\n",
    "\n",
    "\n",
    "\n",
    "\n",
    "for szn in seasons:\n",
    "    games = games_per_season(szn)\n",
    "    save_json('seasons/'+str(szn)+'_season.json', games)"
   ]
  },
  {
   "cell_type": "code",
   "execution_count": null,
   "metadata": {},
   "outputs": [],
   "source": [
    "games = games_per_season(2024)\n",
    "save_json('seasons/'+str(szn)+'_season.json', games)"
   ]
  },
  {
   "cell_type": "markdown",
   "metadata": {},
   "source": [
    "Let's just analyze a specific game's file size to see how big each individual game is. I think we'll have between 13k-14k games."
   ]
  },
  {
   "cell_type": "code",
   "execution_count": null,
   "metadata": {},
   "outputs": [],
   "source": [
    "def stats_per_gameid(game_id: str) -> dict:\n",
    "    url = \"https://api-nba-v1.p.rapidapi.com/players/statistics\"\n",
    "\n",
    "    querystring = {\"game\":game_id}\n",
    "\n",
    "    headers = {\n",
    "        \"x-rapidapi-key\": \"6d8471b900msh64f82e14a3ea8c4p1e6eedjsn363222b8f5fe\",\n",
    "        \"x-rapidapi-host\": \"api-nba-v1.p.rapidapi.com\"\n",
    "    }\n",
    "\n",
    "    response = requests.get(url, headers=headers, params=querystring)\n",
    "\n",
    "    return response.json()\n",
    "\n",
    "\n",
    "game = stats_per_gameid('2842')\n",
    "\n",
    "save_json('test_game.json',game)"
   ]
  },
  {
   "cell_type": "code",
   "execution_count": null,
   "metadata": {},
   "outputs": [],
   "source": [
    "\n",
    "\n",
    "game_ids = {}\n",
    "\n",
    "\n",
    "for szn in seasons:\n",
    "    season = open_json('seasons/'+str(szn)+'_season.json')\n",
    "    print(season.keys())\n",
    "    season = season['response']\n",
    "    cur = []\n",
    "    for i in range(len(season)):\n",
    "        cur.append(season[i]['id'])\n",
    "    game_ids[szn] = cur\n",
    "\n",
    "\n",
    "    "
   ]
  },
  {
   "cell_type": "code",
   "execution_count": null,
   "metadata": {},
   "outputs": [],
   "source": [
    "print(len(game_ids))\n",
    "\n",
    "arr = [i+1 for i in range(14367)]\n",
    "\n"
   ]
  },
  {
   "cell_type": "code",
   "execution_count": null,
   "metadata": {},
   "outputs": [],
   "source": [
    "gaps = []\n",
    "for i in range(1, len(game_ids)):\n",
    "    if game_ids[i]-game_ids[i-1] > 1: gaps.append(game_ids[i]-game_ids[i-1])\n",
    "\n",
    "print(gaps)"
   ]
  },
  {
   "cell_type": "markdown",
   "metadata": {},
   "source": [
    "why are there gaps in the ids? that's odd. whatever           "
   ]
  },
  {
   "cell_type": "code",
   "execution_count": null,
   "metadata": {},
   "outputs": [],
   "source": [
    "\n",
    "\n",
    "for season, games in game_ids.items():\n",
    "    season_dict = {}\n",
    "    for idx, game_id in enumerate(games):\n",
    "        game = stats_per_gameid(game_id)\n",
    "        if 'response' not in game.keys():\n",
    "            print(game)\n",
    "            raise Exception('BAD RESPONSE!')\n",
    "        season_dict[game_id] = game\n",
    "        time.sleep(0.14)\n",
    "        done = (idx+1) / len(games) * 100\n",
    "        if idx % 100 == 0:\n",
    "            print(str(done) + '% done! (season '+ str(season)+')')\n",
    "\n",
    "        \n",
    "\n",
    "    save_json('games/all_games_'+str(season)+'.json',season_dict)\n",
    "    "
   ]
  },
  {
   "cell_type": "code",
   "execution_count": null,
   "metadata": {},
   "outputs": [],
   "source": [
    "games = open_json('games/all_games_2015.json')\n",
    "print(games.keys())"
   ]
  },
  {
   "cell_type": "code",
   "execution_count": null,
   "metadata": {},
   "outputs": [],
   "source": [
    "temp = games['1']['response']\n",
    "for item in temp:\n",
    "    print(item)"
   ]
  },
  {
   "cell_type": "code",
   "execution_count": null,
   "metadata": {},
   "outputs": [],
   "source": [
    "import requests\n",
    "for i in range(30):\n",
    "    url = \"https://api-nba-v1.p.rapidapi.com/players\"\n",
    "\n",
    "    querystring = {\"team\":i+1,\"season\":\"2021\"}\n",
    "\n",
    "    headers = {\n",
    "        \"x-rapidapi-key\": \"6d8471b900msh64f82e14a3ea8c4p1e6eedjsn363222b8f5fe\",\n",
    "        \"x-rapidapi-host\": \"api-nba-v1.p.rapidapi.com\"\n",
    "    }\n",
    "\n",
    "    response = requests.get(url, headers=headers, params=querystring)\n",
    "\n",
    "    print(response.json())"
   ]
  },
  {
   "cell_type": "code",
   "execution_count": null,
   "metadata": {},
   "outputs": [],
   "source": [
    "seasons = [2015, 2016, 2017, 2018, 2019, 2020, 2021, 2022, 2023, 2024]\n",
    "players = {}\n",
    "\n",
    "#if compare_date(game date to this date): this game is a playoff game if True and regular season if False\n",
    "playoff_dates = ['2016-04-13','2017-04-12','2018-04-11','2019-04-10','2020-08-14','2021-05-16','2022-04-10','2023-04-09','2024-04-14','2025-04-13']\n",
    "\n",
    "critical_dates = {seasons[i]: playoff_dates[i] for i in range(len(seasons))}\n",
    "\n",
    "\n",
    "for year in seasons:\n",
    "    all_games = open_json('games/all_games_'+str(year)+'.json')\n",
    "    season = open_json('seasons/'+str(year)+'_season.json')['response']\n",
    "    game_dates = {str(game['id']): game['date']['start'] for game in season}\n",
    "    \n",
    "    for game_id, game in all_games.items():\n",
    "        players_stats = game['response']\n",
    "\n",
    "        #if date is playoff game or nah\n",
    "        regular_season = not compare_dates(game_dates[game_id], critical_dates[year])\n",
    "            \n",
    "        for p in players_stats:\n",
    "            if p['player']['id'] is None: continue\n",
    "            if p['points'] is None: continue\n",
    "            if p['comment'] and ('DNP' in p['comment'] or 'DND' in p['comment']): continue\n",
    "            player_id, full_name = p['player']['id'], str(p['player']['firstname'] + ' ' + p['player']['lastname'])\n",
    "\n",
    "            temp_player = Player(player_id, full_name) if not player_id in players else players[player_id] #create or fetch player\n",
    "            temp_player.add_game(year, game_id, regular_season, p)\n",
    "            players[player_id] = temp_player\n",
    "\n",
    "\n",
    "\n",
    "\n"
   ]
  },
  {
   "cell_type": "markdown",
   "metadata": {},
   "source": [
    "# POPULATE PLAYER OBJECTS"
   ]
  },
  {
   "cell_type": "code",
   "execution_count": null,
   "metadata": {},
   "outputs": [],
   "source": [
    "players_dict = {player_id: player.to_dict() for player_id, player in players.items()}\n",
    "\n",
    "save_json('all_players.json', players_dict)"
   ]
  },
  {
   "cell_type": "code",
   "execution_count": null,
   "metadata": {},
   "outputs": [],
   "source": [
    "\n",
    "data = DataLoader()\n",
    "\n",
    "data.load_player_stats('all_players.json')\n",
    "\n",
    "\n"
   ]
  },
  {
   "cell_type": "code",
   "execution_count": null,
   "metadata": {},
   "outputs": [],
   "source": [
    "#data.players['10']\n",
    "data.players['265'].populate_calculated_stats(from_scratch = True)\n"
   ]
  },
  {
   "cell_type": "code",
   "execution_count": null,
   "metadata": {},
   "outputs": [],
   "source": [
    "print(len(data.players['265'].basic_stats['2024']['regular_season']))\n",
    "games_list = data.players['265'].basic_stats['2024']['regular_season'].values()\n",
    "data.players['265'].pretty_print()"
   ]
  },
  {
   "cell_type": "markdown",
   "metadata": {},
   "source": [
    "# POPULATE COLLECTIVESTATS OBJECT"
   ]
  },
  {
   "cell_type": "code",
<<<<<<< HEAD
   "execution_count": 6,
   "metadata": {},
   "outputs": [
    {
     "ename": "KeyboardInterrupt",
     "evalue": "",
     "output_type": "error",
     "traceback": [
      "\u001b[1;31m---------------------------------------------------------------------------\u001b[0m",
      "\u001b[1;31mKeyboardInterrupt\u001b[0m                         Traceback (most recent call last)",
      "Cell \u001b[1;32mIn[6], line 13\u001b[0m\n\u001b[0;32m     11\u001b[0m \u001b[38;5;28;01mfor\u001b[39;00m year \u001b[38;5;129;01min\u001b[39;00m seasons:\n\u001b[0;32m     12\u001b[0m     all_games \u001b[38;5;241m=\u001b[39m open_json(\u001b[38;5;124mf\u001b[39m\u001b[38;5;124m'\u001b[39m\u001b[38;5;124mgames/all_games_\u001b[39m\u001b[38;5;132;01m{\u001b[39;00myear\u001b[38;5;132;01m}\u001b[39;00m\u001b[38;5;124m.json\u001b[39m\u001b[38;5;124m'\u001b[39m)\n\u001b[1;32m---> 13\u001b[0m     season \u001b[38;5;241m=\u001b[39m \u001b[43mopen_json\u001b[49m\u001b[43m(\u001b[49m\u001b[38;5;124;43mf\u001b[39;49m\u001b[38;5;124;43m'\u001b[39;49m\u001b[38;5;124;43mseasons/\u001b[39;49m\u001b[38;5;132;43;01m{\u001b[39;49;00m\u001b[43myear\u001b[49m\u001b[38;5;132;43;01m}\u001b[39;49;00m\u001b[38;5;124;43m_season.json\u001b[39;49m\u001b[38;5;124;43m'\u001b[39;49m\u001b[43m)\u001b[49m[\u001b[38;5;124m'\u001b[39m\u001b[38;5;124mresponse\u001b[39m\u001b[38;5;124m'\u001b[39m]\n\u001b[0;32m     14\u001b[0m     game_dates \u001b[38;5;241m=\u001b[39m {\u001b[38;5;28mstr\u001b[39m(game[\u001b[38;5;124m'\u001b[39m\u001b[38;5;124mid\u001b[39m\u001b[38;5;124m'\u001b[39m]): game[\u001b[38;5;124m'\u001b[39m\u001b[38;5;124mdate\u001b[39m\u001b[38;5;124m'\u001b[39m][\u001b[38;5;124m'\u001b[39m\u001b[38;5;124mstart\u001b[39m\u001b[38;5;124m'\u001b[39m] \u001b[38;5;28;01mfor\u001b[39;00m game \u001b[38;5;129;01min\u001b[39;00m season}\n\u001b[0;32m     16\u001b[0m     \u001b[38;5;28;01mfor\u001b[39;00m game_id, game \u001b[38;5;129;01min\u001b[39;00m all_games\u001b[38;5;241m.\u001b[39mitems():\n",
      "File \u001b[1;32m\\\\wsl.localhost\\Ubuntu-22.04\\home\\fuzzy\\python_projects\\sportsbetting\\nba\\tools.py:8\u001b[0m, in \u001b[0;36mopen_json\u001b[1;34m(file_name)\u001b[0m\n\u001b[0;32m      7\u001b[0m \u001b[38;5;28;01mdef\u001b[39;00m \u001b[38;5;21mopen_json\u001b[39m(file_name: \u001b[38;5;28mstr\u001b[39m) \u001b[38;5;241m-\u001b[39m\u001b[38;5;241m>\u001b[39m \u001b[38;5;28mdict\u001b[39m:\n\u001b[1;32m----> 8\u001b[0m     \u001b[38;5;28;01mwith\u001b[39;00m \u001b[38;5;28;43mopen\u001b[39;49m\u001b[43m(\u001b[49m\u001b[43mfile_name\u001b[49m\u001b[43m)\u001b[49m \u001b[38;5;28;01mas\u001b[39;00m file:\n\u001b[0;32m      9\u001b[0m         data \u001b[38;5;241m=\u001b[39m json\u001b[38;5;241m.\u001b[39mload(file)\n\u001b[0;32m     10\u001b[0m         \u001b[38;5;28;01mreturn\u001b[39;00m data\n",
      "File \u001b[1;32mC:\\Program Files\\WindowsApps\\PythonSoftwareFoundation.Python.3.10_3.10.3056.0_x64__qbz5n2kfra8p0\\lib\\codecs.py:260\u001b[0m, in \u001b[0;36mIncrementalDecoder.__init__\u001b[1;34m(self, errors)\u001b[0m\n\u001b[0;32m    254\u001b[0m \u001b[38;5;28;01mclass\u001b[39;00m \u001b[38;5;21;01mIncrementalDecoder\u001b[39;00m(\u001b[38;5;28mobject\u001b[39m):\n\u001b[0;32m    255\u001b[0m \u001b[38;5;250m    \u001b[39m\u001b[38;5;124;03m\"\"\"\u001b[39;00m\n\u001b[0;32m    256\u001b[0m \u001b[38;5;124;03m    An IncrementalDecoder decodes an input in multiple steps. The input can\u001b[39;00m\n\u001b[0;32m    257\u001b[0m \u001b[38;5;124;03m    be passed piece by piece to the decode() method. The IncrementalDecoder\u001b[39;00m\n\u001b[0;32m    258\u001b[0m \u001b[38;5;124;03m    remembers the state of the decoding process between calls to decode().\u001b[39;00m\n\u001b[0;32m    259\u001b[0m \u001b[38;5;124;03m    \"\"\"\u001b[39;00m\n\u001b[1;32m--> 260\u001b[0m     \u001b[38;5;28;01mdef\u001b[39;00m \u001b[38;5;21m__init__\u001b[39m(\u001b[38;5;28mself\u001b[39m, errors\u001b[38;5;241m=\u001b[39m\u001b[38;5;124m'\u001b[39m\u001b[38;5;124mstrict\u001b[39m\u001b[38;5;124m'\u001b[39m):\n\u001b[0;32m    261\u001b[0m \u001b[38;5;250m        \u001b[39m\u001b[38;5;124;03m\"\"\"\u001b[39;00m\n\u001b[0;32m    262\u001b[0m \u001b[38;5;124;03m        Create an IncrementalDecoder instance.\u001b[39;00m\n\u001b[0;32m    263\u001b[0m \n\u001b[1;32m   (...)\u001b[0m\n\u001b[0;32m    266\u001b[0m \u001b[38;5;124;03m        for a list of possible values.\u001b[39;00m\n\u001b[0;32m    267\u001b[0m \u001b[38;5;124;03m        \"\"\"\u001b[39;00m\n\u001b[0;32m    268\u001b[0m         \u001b[38;5;28mself\u001b[39m\u001b[38;5;241m.\u001b[39merrors \u001b[38;5;241m=\u001b[39m errors\n",
      "\u001b[1;31mKeyboardInterrupt\u001b[0m: "
     ]
    }
   ],
=======
   "execution_count": 4,
   "metadata": {},
   "outputs": [],
>>>>>>> 13871497b7d86fb4eaeb8e0b834a05b303584edf
   "source": [
    "\n",
    "collective_stats = CollectiveStats()\n",
    "\n",
    "\n",
    "seasons = [2015, 2016, 2017, 2018, 2019, 2020, 2021, 2022, 2023, 2024]\n",
    "playoff_dates = ['2016-04-13','2017-04-12','2018-04-11','2019-04-10',\n",
    "                 '2020-08-14','2021-05-16','2022-04-10','2023-04-09',\n",
    "                 '2024-04-14','2025-04-13']\n",
    "critical_dates = {seasons[i]: playoff_dates[i] for i in range(len(seasons))}\n",
    "\n",
    "\n",
    "for year in seasons:\n",
    "    all_games = open_json(f'games/all_games_{year}.json')\n",
    "    season = open_json(f'seasons/{year}_season.json')['response']\n",
    "    game_dates = {str(game['id']): game['date']['start'] for game in season}\n",
    "\n",
    "    for game_id, game in all_games.items():\n",
    "        players_stats = game['response']\n",
    "\n",
    "\n",
    "        regular_season = not compare_dates(game_dates[game_id], critical_dates[year])\n",
    "\n",
    "        for p in players_stats:\n",
    "            if p['player']['id'] is None or p['points'] is None: continue\n",
    "            if p['comment'] and ('DNP' in p['comment'] or 'DND' in p['comment']): continue\n",
    "\n",
    "            player_id = p['player']['id']\n",
    "            team_id = p['team']['id'] if 'team' in p else None  \n",
    "\n",
    "\n",
    "            game_stats = {key: p[key] for key in p if isinstance(p[key], (int, float))}\n",
    "\n",
    "\n",
    "            for stat_name, stat_value in game_stats.items():\n",
    "                collective_stats.add_league_stat(year, regular_season, game_id, stat_name, stat_value)\n",
    "                if team_id:\n",
    "                    collective_stats.add_team_stat(year, regular_season, game_id, str(team_id), stat_name, stat_value)\n"
   ]
  },
  {
   "cell_type": "code",
<<<<<<< HEAD
   "execution_count": null,
   "metadata": {},
   "outputs": [],
   "source": [
    "save_json({'team_stats': collective_stats.team_stats, 'league_stats': collective_stats.league_stats}, 'collective_stats.json')"
=======
   "execution_count": 5,
   "metadata": {},
   "outputs": [
    {
     "name": "stdout",
     "output_type": "stream",
     "text": [
      "Data has been saved to collective_stats.json\n"
     ]
    }
   ],
   "source": [
    "save_json('collective_stats.json', {'team_stats': collective_stats.team_stats, 'league_stats': collective_stats.league_stats})"
>>>>>>> 13871497b7d86fb4eaeb8e0b834a05b303584edf
   ]
  }
 ],
 "metadata": {
  "kernelspec": {
   "display_name": "Python 3",
   "language": "python",
   "name": "python3"
  },
  "language_info": {
   "codemirror_mode": {
    "name": "ipython",
    "version": 3
   },
   "file_extension": ".py",
   "mimetype": "text/x-python",
   "name": "python",
   "nbconvert_exporter": "python",
   "pygments_lexer": "ipython3",
   "version": "3.10.11"
  }
 },
 "nbformat": 4,
 "nbformat_minor": 2
}
