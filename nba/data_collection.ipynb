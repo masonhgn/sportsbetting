{
 "cells": [
  {
   "cell_type": "code",
   "execution_count": null,
   "metadata": {},
   "outputs": [
    {
     "name": "stdout",
     "output_type": "stream",
     "text": [
      "{'get': 'seasons/', 'parameters': [], 'errors': [], 'results': 10, 'response': [2015, 2016, 2017, 2018, 2019, 2020, 2021, 2022, 2023, 2024]}\n"
     ]
    }
   ],
   "source": [
    "#this gets all of the seasons we can scrape\n",
    "\n",
    "\n",
    "\n",
    "import requests\n",
    "\n",
    "url = \"https://api-nba-v1.p.rapidapi.com/seasons\"\n",
    "\n",
    "headers = {\n",
    "\t\"x-rapidapi-key\": \"6d8471b900msh64f82e14a3ea8c4p1e6eedjsn363222b8f5fe\",\n",
    "\t\"x-rapidapi-host\": \"api-nba-v1.p.rapidapi.com\"\n",
    "}\n",
    "\n",
    "response = requests.get(url, headers=headers)\n",
    "\n",
    "print(response.json())"
   ]
  },
  {
   "cell_type": "code",
   "execution_count": 33,
   "metadata": {},
   "outputs": [
    {
     "name": "stdout",
     "output_type": "stream",
     "text": [
      "{'get': 'players/statistics', 'parameters': {'game': '8133'}, 'errors': [], 'results': 37, 'response': [{'player': {'id': 734, 'firstname': 'Dwayne', 'lastname': 'Bacon'}, 'team': {'id': 26, 'name': 'Orlando Magic', 'nickname': 'Magic', 'code': 'ORL', 'logo': 'https://upload.wikimedia.org/wikipedia/fr/b/bd/Orlando_Magic_logo_2010.png'}, 'game': {'id': 8133}, 'points': 14, 'pos': 'SF', 'min': '21:56', 'fgm': 6, 'fga': 9, 'fgp': '66.7', 'ftm': 1, 'fta': 1, 'ftp': '100', 'tpm': 1, 'tpa': 3, 'tpp': '33.3', 'offReb': 0, 'defReb': 2, 'totReb': 2, 'assists': 1, 'pFouls': 1, 'steals': 2, 'turnovers': 1, 'blocks': 0, 'plusMinus': '6', 'comment': None}, {'player': {'id': 195, 'firstname': 'Aaron', 'lastname': 'Gordon'}, 'team': {'id': 26, 'name': 'Orlando Magic', 'nickname': 'Magic', 'code': 'ORL', 'logo': 'https://upload.wikimedia.org/wikipedia/fr/b/bd/Orlando_Magic_logo_2010.png'}, 'game': {'id': 8133}, 'points': 12, 'pos': 'PF', 'min': '16:19', 'fgm': 4, 'fga': 7, 'fgp': '57.1', 'ftm': 3, 'fta': 3, 'ftp': '100', 'tpm': 1, 'tpa': 2, 'tpp': '50.0', 'offReb': 1, 'defReb': 2, 'totReb': 3, 'assists': 6, 'pFouls': 0, 'steals': 0, 'turnovers': 0, 'blocks': 0, 'plusMinus': '11', 'comment': None}, {'player': {'id': 534, 'firstname': 'Nikola', 'lastname': 'Vucevic'}, 'team': {'id': 26, 'name': 'Orlando Magic', 'nickname': 'Magic', 'code': 'ORL', 'logo': 'https://upload.wikimedia.org/wikipedia/fr/b/bd/Orlando_Magic_logo_2010.png'}, 'game': {'id': 8133}, 'points': 18, 'pos': 'C', 'min': '25:20', 'fgm': 8, 'fga': 14, 'fgp': '57.1', 'ftm': 0, 'fta': 1, 'ftp': '0.0', 'tpm': 2, 'tpa': 7, 'tpp': '28.6', 'offReb': 1, 'defReb': 10, 'totReb': 11, 'assists': 4, 'pFouls': 2, 'steals': 1, 'turnovers': 1, 'blocks': 1, 'plusMinus': '25', 'comment': None}, {'player': {'id': 177, 'firstname': 'Evan', 'lastname': 'Fournier'}, 'team': {'id': 26, 'name': 'Orlando Magic', 'nickname': 'Magic', 'code': 'ORL', 'logo': 'https://upload.wikimedia.org/wikipedia/fr/b/bd/Orlando_Magic_logo_2010.png'}, 'game': {'id': 8133}, 'points': 13, 'pos': 'SG', 'min': '24:51', 'fgm': 5, 'fga': 9, 'fgp': '55.6', 'ftm': 1, 'fta': 1, 'ftp': '100', 'tpm': 2, 'tpa': 5, 'tpp': '40.0', 'offReb': 0, 'defReb': 1, 'totReb': 1, 'assists': 2, 'pFouls': 2, 'steals': 2, 'turnovers': 1, 'blocks': 1, 'plusMinus': '22', 'comment': None}, {'player': {'id': 779, 'firstname': 'Markelle', 'lastname': 'Fultz'}, 'team': {'id': 26, 'name': 'Orlando Magic', 'nickname': 'Magic', 'code': 'ORL', 'logo': 'https://upload.wikimedia.org/wikipedia/fr/b/bd/Orlando_Magic_logo_2010.png'}, 'game': {'id': 8133}, 'points': 10, 'pos': 'PG', 'min': '25:26', 'fgm': 4, 'fga': 7, 'fgp': '57.1', 'ftm': 1, 'fta': 2, 'ftp': '50.0', 'tpm': 1, 'tpa': 3, 'tpp': '33.3', 'offReb': 0, 'defReb': 3, 'totReb': 3, 'assists': 4, 'pFouls': 3, 'steals': 1, 'turnovers': 4, 'blocks': 0, 'plusMinus': '21', 'comment': None}, {'player': {'id': 12, 'firstname': 'Al-Farouq', 'lastname': 'Aminu'}, 'team': {'id': 26, 'name': 'Orlando Magic', 'nickname': 'Magic', 'code': 'ORL', 'logo': 'https://upload.wikimedia.org/wikipedia/fr/b/bd/Orlando_Magic_logo_2010.png'}, 'game': {'id': 8133}, 'points': None, 'pos': None, 'min': None, 'fgm': None, 'fga': None, 'fgp': None, 'ftm': None, 'fta': None, 'ftp': None, 'tpm': None, 'tpa': None, 'tpp': None, 'offReb': None, 'defReb': None, 'totReb': None, 'assists': None, 'pFouls': None, 'steals': None, 'turnovers': None, 'blocks': None, 'plusMinus': None, 'comment': 'DND - Injury / Illness'}, {'player': {'id': 2563, 'firstname': 'Cole', 'lastname': 'Anthony'}, 'team': {'id': 26, 'name': 'Orlando Magic', 'nickname': 'Magic', 'code': 'ORL', 'logo': 'https://upload.wikimedia.org/wikipedia/fr/b/bd/Orlando_Magic_logo_2010.png'}, 'game': {'id': 8133}, 'points': 7, 'pos': None, 'min': '19:59', 'fgm': 3, 'fga': 10, 'fgp': '30.0', 'ftm': 0, 'fta': 0, 'ftp': '0.0', 'tpm': 1, 'tpa': 4, 'tpp': '25.0', 'offReb': 0, 'defReb': 1, 'totReb': 1, 'assists': 3, 'pFouls': 5, 'steals': 1, 'turnovers': 3, 'blocks': 0, 'plusMinus': '-20', 'comment': None}, {'player': {'id': 932, 'firstname': 'Mo', 'lastname': 'Bamba'}, 'team': {'id': 26, 'name': 'Orlando Magic', 'nickname': 'Magic', 'code': 'ORL', 'logo': 'https://upload.wikimedia.org/wikipedia/fr/b/bd/Orlando_Magic_logo_2010.png'}, 'game': {'id': 8133}, 'points': None, 'pos': None, 'min': None, 'fgm': None, 'fga': None, 'fgp': None, 'ftm': None, 'fta': None, 'ftp': None, 'tpm': None, 'tpa': None, 'tpp': None, 'offReb': None, 'defReb': None, 'totReb': None, 'assists': None, 'pFouls': None, 'steals': None, 'turnovers': None, 'blocks': None, 'plusMinus': None, 'comment': 'DND - Injury / Illness'}, {'player': {'id': 739, 'firstname': 'Khem', 'lastname': 'Birch'}, 'team': {'id': 26, 'name': 'Orlando Magic', 'nickname': 'Magic', 'code': 'ORL', 'logo': 'https://upload.wikimedia.org/wikipedia/fr/b/bd/Orlando_Magic_logo_2010.png'}, 'game': {'id': 8133}, 'points': 8, 'pos': None, 'min': '17:56', 'fgm': 3, 'fga': 4, 'fgp': '75.0', 'ftm': 2, 'fta': 3, 'ftp': '66.7', 'tpm': 0, 'tpa': 0, 'tpp': '0.0', 'offReb': 3, 'defReb': 5, 'totReb': 8, 'assists': 0, 'pFouls': 3, 'steals': 1, 'turnovers': 2, 'blocks': 1, 'plusMinus': '-23', 'comment': None}, {'player': {'id': 1850, 'firstname': 'Jordan', 'lastname': 'Bone'}, 'team': {'id': 26, 'name': 'Orlando Magic', 'nickname': 'Magic', 'code': 'ORL', 'logo': 'https://upload.wikimedia.org/wikipedia/fr/b/bd/Orlando_Magic_logo_2010.png'}, 'game': {'id': 8133}, 'points': 5, 'pos': None, 'min': '5:43', 'fgm': 1, 'fga': 3, 'fgp': '33.3', 'ftm': 2, 'fta': 2, 'ftp': '100', 'tpm': 1, 'tpa': 2, 'tpp': '50.0', 'offReb': 0, 'defReb': 2, 'totReb': 2, 'assists': 1, 'pFouls': 0, 'steals': 0, 'turnovers': 0, 'blocks': 0, 'plusMinus': '0', 'comment': None}, {'player': {'id': 2532, 'firstname': 'Devin', 'lastname': 'Cannady'}, 'team': {'id': 26, 'name': 'Orlando Magic', 'nickname': 'Magic', 'code': 'ORL', 'logo': 'https://upload.wikimedia.org/wikipedia/fr/b/bd/Orlando_Magic_logo_2010.png'}, 'game': {'id': 8133}, 'points': 3, 'pos': None, 'min': '7:07', 'fgm': 1, 'fga': 3, 'fgp': '33.3', 'ftm': 0, 'fta': 0, 'ftp': '0.0', 'tpm': 1, 'tpa': 2, 'tpp': '50.0', 'offReb': 0, 'defReb': 1, 'totReb': 1, 'assists': 1, 'pFouls': 1, 'steals': 0, 'turnovers': 0, 'blocks': 1, 'plusMinus': '-8', 'comment': None}, {'player': {'id': 95, 'firstname': 'Michael', 'lastname': 'Carter-Williams'}, 'team': {'id': 26, 'name': 'Orlando Magic', 'nickname': 'Magic', 'code': 'ORL', 'logo': 'https://upload.wikimedia.org/wikipedia/fr/b/bd/Orlando_Magic_logo_2010.png'}, 'game': {'id': 8133}, 'points': 10, 'pos': None, 'min': '24:55', 'fgm': 4, 'fga': 13, 'fgp': '30.8', 'ftm': 2, 'fta': 4, 'ftp': '50.0', 'tpm': 0, 'tpa': 4, 'tpp': '0.0', 'offReb': 2, 'defReb': 3, 'totReb': 5, 'assists': 3, 'pFouls': 2, 'steals': 0, 'turnovers': 1, 'blocks': 2, 'plusMinus': '-12', 'comment': None}, {'player': {'id': 953, 'firstname': 'Gary', 'lastname': 'Clark'}, 'team': {'id': 26, 'name': 'Orlando Magic', 'nickname': 'Magic', 'code': 'ORL', 'logo': 'https://upload.wikimedia.org/wikipedia/fr/b/bd/Orlando_Magic_logo_2010.png'}, 'game': {'id': 8133}, 'points': 2, 'pos': None, 'min': '17:35', 'fgm': 0, 'fga': 2, 'fgp': '0.0', 'ftm': 2, 'fta': 2, 'ftp': '100', 'tpm': 0, 'tpa': 2, 'tpp': '0.0', 'offReb': 0, 'defReb': 3, 'totReb': 3, 'assists': 0, 'pFouls': 2, 'steals': 0, 'turnovers': 1, 'blocks': 1, 'plusMinus': '1', 'comment': None}, {'player': {'id': 160, 'firstname': 'James', 'lastname': 'Ennis III'}, 'team': {'id': 26, 'name': 'Orlando Magic', 'nickname': 'Magic', 'code': 'ORL', 'logo': 'https://upload.wikimedia.org/wikipedia/fr/b/bd/Orlando_Magic_logo_2010.png'}, 'game': {'id': 8133}, 'points': None, 'pos': None, 'min': None, 'fgm': None, 'fga': None, 'fgp': None, 'ftm': None, 'fta': None, 'ftp': None, 'tpm': None, 'tpa': None, 'tpp': None, 'offReb': None, 'defReb': None, 'totReb': None, 'assists': None, 'pFouls': None, 'steals': None, 'turnovers': None, 'blocks': None, 'plusMinus': None, 'comment': 'DNP - Injury / Illness'}, {'player': {'id': 2011, 'firstname': 'Robert', 'lastname': 'Franks'}, 'team': {'id': 26, 'name': 'Orlando Magic', 'nickname': 'Magic', 'code': 'ORL', 'logo': 'https://upload.wikimedia.org/wikipedia/fr/b/bd/Orlando_Magic_logo_2010.png'}, 'game': {'id': 8133}, 'points': 5, 'pos': None, 'min': '7:46', 'fgm': 0, 'fga': 2, 'fgp': '0.0', 'ftm': 5, 'fta': 8, 'ftp': '62.5', 'tpm': 0, 'tpa': 2, 'tpp': '0.0', 'offReb': 0, 'defReb': 0, 'totReb': 0, 'assists': 0, 'pFouls': 3, 'steals': 1, 'turnovers': 0, 'blocks': 0, 'plusMinus': '2', 'comment': None}, {'player': {'id': 801, 'firstname': 'Jonathan', 'lastname': 'Isaac'}, 'team': {'id': 26, 'name': 'Orlando Magic', 'nickname': 'Magic', 'code': 'ORL', 'logo': 'https://upload.wikimedia.org/wikipedia/fr/b/bd/Orlando_Magic_logo_2010.png'}, 'game': {'id': 8133}, 'points': None, 'pos': None, 'min': None, 'fgm': None, 'fga': None, 'fgp': None, 'ftm': None, 'fta': None, 'ftp': None, 'tpm': None, 'tpa': None, 'tpp': None, 'offReb': None, 'defReb': None, 'totReb': None, 'assists': None, 'pFouls': None, 'steals': None, 'turnovers': None, 'blocks': None, 'plusMinus': None, 'comment': 'DND - Injury / Illness'}, {'player': {'id': 2615, 'firstname': 'Karim', 'lastname': 'Mane'}, 'team': {'id': 26, 'name': 'Orlando Magic', 'nickname': 'Magic', 'code': 'ORL', 'logo': 'https://upload.wikimedia.org/wikipedia/fr/b/bd/Orlando_Magic_logo_2010.png'}, 'game': {'id': 8133}, 'points': 0, 'pos': None, 'min': '6:17', 'fgm': 0, 'fga': 1, 'fgp': '0.0', 'ftm': 0, 'fta': 0, 'ftp': '0.0', 'tpm': 0, 'tpa': 1, 'tpp': '0.0', 'offReb': 0, 'defReb': 2, 'totReb': 2, 'assists': 0, 'pFouls': 0, 'steals': 1, 'turnovers': 0, 'blocks': 0, 'plusMinus': '1', 'comment': None}, {'player': {'id': 1883, 'firstname': 'Chuma', 'lastname': 'Okeke'}, 'team': {'id': 26, 'name': 'Orlando Magic', 'nickname': 'Magic', 'code': 'ORL', 'logo': 'https://upload.wikimedia.org/wikipedia/fr/b/bd/Orlando_Magic_logo_2010.png'}, 'game': {'id': 8133}, 'points': 9, 'pos': None, 'min': '14:06', 'fgm': 3, 'fga': 8, 'fgp': '37.5', 'ftm': 1, 'fta': 2, 'ftp': '50.0', 'tpm': 2, 'tpa': 5, 'tpp': '40.0', 'offReb': 1, 'defReb': 2, 'totReb': 3, 'assists': 1, 'pFouls': 3, 'steals': 0, 'turnovers': 1, 'blocks': 1, 'plusMinus': '-8', 'comment': None}, {'player': {'id': 457, 'firstname': 'Terrence', 'lastname': 'Ross'}, 'team': {'id': 26, 'name': 'Orlando Magic', 'nickname': 'Magic', 'code': 'ORL', 'logo': 'https://upload.wikimedia.org/wikipedia/fr/b/bd/Orlando_Magic_logo_2010.png'}, 'game': {'id': 8133}, 'points': None, 'pos': None, 'min': None, 'fgm': None, 'fga': None, 'fgp': None, 'ftm': None, 'fta': None, 'ftp': None, 'tpm': None, 'tpa': None, 'tpp': None, 'offReb': None, 'defReb': None, 'totReb': None, 'assists': None, 'pFouls': None, 'steals': None, 'turnovers': None, 'blocks': None, 'plusMinus': None, 'comment': 'DND - Injury / Illness'}, {'player': {'id': 2653, 'firstname': 'Jon', 'lastname': 'Teske'}, 'team': {'id': 26, 'name': 'Orlando Magic', 'nickname': 'Magic', 'code': 'ORL', 'logo': 'https://upload.wikimedia.org/wikipedia/fr/b/bd/Orlando_Magic_logo_2010.png'}, 'game': {'id': 8133}, 'points': 0, 'pos': None, 'min': '4:44', 'fgm': 0, 'fga': 0, 'fgp': '0.0', 'ftm': 0, 'fta': 0, 'ftp': '0.0', 'tpm': 0, 'tpa': 0, 'tpp': '0.0', 'offReb': 2, 'defReb': 2, 'totReb': 4, 'assists': 0, 'pFouls': 1, 'steals': 0, 'turnovers': 0, 'blocks': 0, 'plusMinus': '2', 'comment': None}, {'player': {'id': 1868, 'firstname': \"De'Andre\", 'lastname': 'Hunter'}, 'team': {'id': 1, 'name': 'Atlanta Hawks', 'nickname': 'Hawks', 'code': 'ATL', 'logo': 'https://upload.wikimedia.org/wikipedia/fr/e/ee/Hawks_2016.png'}, 'game': {'id': 8133}, 'points': 18, 'pos': 'SF', 'min': '26:07', 'fgm': 5, 'fga': 10, 'fgp': '50.0', 'ftm': 6, 'fta': 8, 'ftp': '75.0', 'tpm': 2, 'tpa': 5, 'tpp': '40.0', 'offReb': 1, 'defReb': 2, 'totReb': 3, 'assists': 0, 'pFouls': 3, 'steals': 0, 'turnovers': 1, 'blocks': 1, 'plusMinus': '-9', 'comment': None}, {'player': {'id': 761, 'firstname': 'John', 'lastname': 'Collins'}, 'team': {'id': 1, 'name': 'Atlanta Hawks', 'nickname': 'Hawks', 'code': 'ATL', 'logo': 'https://upload.wikimedia.org/wikipedia/fr/e/ee/Hawks_2016.png'}, 'game': {'id': 8133}, 'points': 14, 'pos': 'PF', 'min': '22:09', 'fgm': 4, 'fga': 6, 'fgp': '66.7', 'ftm': 5, 'fta': 6, 'ftp': '83.3', 'tpm': 1, 'tpa': 1, 'tpp': '100', 'offReb': 4, 'defReb': 5, 'totReb': 9, 'assists': 1, 'pFouls': 4, 'steals': 2, 'turnovers': 4, 'blocks': 1, 'plusMinus': '-4', 'comment': None}, {'player': {'id': 92, 'firstname': 'Clint', 'lastname': 'Capela'}, 'team': {'id': 1, 'name': 'Atlanta Hawks', 'nickname': 'Hawks', 'code': 'ATL', 'logo': 'https://upload.wikimedia.org/wikipedia/fr/e/ee/Hawks_2016.png'}, 'game': {'id': 8133}, 'points': 8, 'pos': 'C', 'min': '20:05', 'fgm': 4, 'fga': 6, 'fgp': '66.7', 'ftm': 0, 'fta': 1, 'ftp': '0.0', 'tpm': 0, 'tpa': 0, 'tpp': '0.0', 'offReb': 5, 'defReb': 9, 'totReb': 14, 'assists': 0, 'pFouls': 0, 'steals': 0, 'turnovers': 2, 'blocks': 0, 'plusMinus': '-5', 'comment': None}, {'player': {'id': 743, 'firstname': 'Bogdan', 'lastname': 'Bogdanovic'}, 'team': {'id': 1, 'name': 'Atlanta Hawks', 'nickname': 'Hawks', 'code': 'ATL', 'logo': 'https://upload.wikimedia.org/wikipedia/fr/e/ee/Hawks_2016.png'}, 'game': {'id': 8133}, 'points': 9, 'pos': 'SG', 'min': '23:18', 'fgm': 3, 'fga': 10, 'fgp': '30.0', 'ftm': 2, 'fta': 2, 'ftp': '100', 'tpm': 1, 'tpa': 5, 'tpp': '20.0', 'offReb': 1, 'defReb': 3, 'totReb': 4, 'assists': 2, 'pFouls': 0, 'steals': 1, 'turnovers': 1, 'blocks': 0, 'plusMinus': '10', 'comment': None}, {'player': {'id': 1046, 'firstname': 'Trae', 'lastname': 'Young'}, 'team': {'id': 1, 'name': 'Atlanta Hawks', 'nickname': 'Hawks', 'code': 'ATL', 'logo': 'https://upload.wikimedia.org/wikipedia/fr/e/ee/Hawks_2016.png'}, 'game': {'id': 8133}, 'points': 7, 'pos': 'PG', 'min': '22:10', 'fgm': 2, 'fga': 9, 'fgp': '22.2', 'ftm': 3, 'fta': 4, 'ftp': '75.0', 'tpm': 0, 'tpa': 2, 'tpp': '0.0', 'offReb': 1, 'defReb': 1, 'totReb': 2, 'assists': 6, 'pFouls': 2, 'steals': 1, 'turnovers': 6, 'blocks': 0, 'plusMinus': '-10', 'comment': None}, {'player': {'id': 152, 'firstname': 'Kris', 'lastname': 'Dunn'}, 'team': {'id': 1, 'name': 'Atlanta Hawks', 'nickname': 'Hawks', 'code': 'ATL', 'logo': 'https://upload.wikimedia.org/wikipedia/fr/e/ee/Hawks_2016.png'}, 'game': {'id': 8133}, 'points': None, 'pos': None, 'min': None, 'fgm': None, 'fga': None, 'fgp': None, 'ftm': None, 'fta': None, 'ftp': None, 'tpm': None, 'tpa': None, 'tpp': None, 'offReb': None, 'defReb': None, 'totReb': None, 'assists': None, 'pFouls': None, 'steals': None, 'turnovers': None, 'blocks': None, 'plusMinus': None, 'comment': 'DND - Injury / Illness'}, {'player': {'id': 1858, 'firstname': 'Bruno', 'lastname': 'Fernando'}, 'team': {'id': 1, 'name': 'Atlanta Hawks', 'nickname': 'Hawks', 'code': 'ATL', 'logo': 'https://upload.wikimedia.org/wikipedia/fr/e/ee/Hawks_2016.png'}, 'game': {'id': 8133}, 'points': 8, 'pos': None, 'min': '17:15', 'fgm': 2, 'fga': 7, 'fgp': '28.6', 'ftm': 4, 'fta': 4, 'ftp': '100', 'tpm': 0, 'tpa': 0, 'tpp': '0.0', 'offReb': 2, 'defReb': 7, 'totReb': 9, 'assists': 0, 'pFouls': 4, 'steals': 0, 'turnovers': 0, 'blocks': 0, 'plusMinus': '-10', 'comment': None}, {'player': {'id': 181, 'firstname': 'Danilo', 'lastname': 'Gallinari'}, 'team': {'id': 1, 'name': 'Atlanta Hawks', 'nickname': 'Hawks', 'code': 'ATL', 'logo': 'https://upload.wikimedia.org/wikipedia/fr/e/ee/Hawks_2016.png'}, 'game': {'id': 8133}, 'points': 14, 'pos': None, 'min': '20:15', 'fgm': 3, 'fga': 7, 'fgp': '42.9', 'ftm': 7, 'fta': 8, 'ftp': '87.5', 'tpm': 1, 'tpa': 5, 'tpp': '20.0', 'offReb': 0, 'defReb': 4, 'totReb': 4, 'assists': 0, 'pFouls': 2, 'steals': 1, 'turnovers': 0, 'blocks': 1, 'plusMinus': '14', 'comment': None}, {'player': {'id': 1063, 'firstname': 'Brandon', 'lastname': 'Goodwin'}, 'team': {'id': 1, 'name': 'Atlanta Hawks', 'nickname': 'Hawks', 'code': 'ATL', 'logo': 'https://upload.wikimedia.org/wikipedia/fr/e/ee/Hawks_2016.png'}, 'game': {'id': 8133}, 'points': 7, 'pos': None, 'min': '17:58', 'fgm': 3, 'fga': 10, 'fgp': '30.0', 'ftm': 0, 'fta': 0, 'ftp': '0.0', 'tpm': 1, 'tpa': 3, 'tpp': '33.3', 'offReb': 1, 'defReb': 1, 'totReb': 2, 'assists': 3, 'pFouls': 1, 'steals': 0, 'turnovers': 2, 'blocks': 0, 'plusMinus': '-4', 'comment': None}, {'player': {'id': 239, 'firstname': 'Solomon', 'lastname': 'Hill'}, 'team': {'id': 1, 'name': 'Atlanta Hawks', 'nickname': 'Hawks', 'code': 'ATL', 'logo': 'https://upload.wikimedia.org/wikipedia/fr/e/ee/Hawks_2016.png'}, 'game': {'id': 8133}, 'points': 3, 'pos': None, 'min': '15:06', 'fgm': 1, 'fga': 2, 'fgp': '50.0', 'ftm': 0, 'fta': 0, 'ftp': '0.0', 'tpm': 1, 'tpa': 2, 'tpp': '50.0', 'offReb': 0, 'defReb': 1, 'totReb': 1, 'assists': 1, 'pFouls': 2, 'steals': 1, 'turnovers': 0, 'blocks': 0, 'plusMinus': '-3', 'comment': None}, {'player': {'id': 980, 'firstname': 'Kevin', 'lastname': 'Huerter'}, 'team': {'id': 1, 'name': 'Atlanta Hawks', 'nickname': 'Hawks', 'code': 'ATL', 'logo': 'https://upload.wikimedia.org/wikipedia/fr/e/ee/Hawks_2016.png'}, 'game': {'id': 8133}, 'points': 8, 'pos': None, 'min': '21:24', 'fgm': 3, 'fga': 11, 'fgp': '27.3', 'ftm': 0, 'fta': 0, 'ftp': '0.0', 'tpm': 2, 'tpa': 5, 'tpp': '40.0', 'offReb': 1, 'defReb': 0, 'totReb': 1, 'assists': 3, 'pFouls': 2, 'steals': 1, 'turnovers': 1, 'blocks': 1, 'plusMinus': '5', 'comment': None}, {'player': {'id': 2607, 'firstname': 'Nathan', 'lastname': 'Knight'}, 'team': {'id': 1, 'name': 'Atlanta Hawks', 'nickname': 'Hawks', 'code': 'ATL', 'logo': 'https://upload.wikimedia.org/wikipedia/fr/e/ee/Hawks_2016.png'}, 'game': {'id': 8133}, 'points': 0, 'pos': None, 'min': '5:43', 'fgm': 0, 'fga': 1, 'fgp': '0.0', 'ftm': 0, 'fta': 0, 'ftp': '0.0', 'tpm': 0, 'tpa': 0, 'tpp': '0.0', 'offReb': 1, 'defReb': 2, 'totReb': 3, 'assists': 0, 'pFouls': 2, 'steals': 0, 'turnovers': 0, 'blocks': 0, 'plusMinus': '0', 'comment': None}, {'player': {'id': 2620, 'firstname': 'Skylar', 'lastname': 'Mays'}, 'team': {'id': 1, 'name': 'Atlanta Hawks', 'nickname': 'Hawks', 'code': 'ATL', 'logo': 'https://upload.wikimedia.org/wikipedia/fr/e/ee/Hawks_2016.png'}, 'game': {'id': 8133}, 'points': 3, 'pos': None, 'min': '5:30', 'fgm': 0, 'fga': 3, 'fgp': '0.0', 'ftm': 3, 'fta': 4, 'ftp': '75.0', 'tpm': 0, 'tpa': 1, 'tpp': '0.0', 'offReb': 1, 'defReb': 0, 'totReb': 1, 'assists': 1, 'pFouls': 1, 'steals': 0, 'turnovers': 0, 'blocks': 0, 'plusMinus': '-2', 'comment': None}, {'player': {'id': 2629, 'firstname': 'Onyeka', 'lastname': 'Okongwu'}, 'team': {'id': 1, 'name': 'Atlanta Hawks', 'nickname': 'Hawks', 'code': 'ATL', 'logo': 'https://upload.wikimedia.org/wikipedia/fr/e/ee/Hawks_2016.png'}, 'game': {'id': 8133}, 'points': None, 'pos': None, 'min': None, 'fgm': None, 'fga': None, 'fgp': None, 'ftm': None, 'fta': None, 'ftp': None, 'tpm': None, 'tpa': None, 'tpp': None, 'offReb': None, 'defReb': None, 'totReb': None, 'assists': None, 'pFouls': None, 'steals': None, 'turnovers': None, 'blocks': None, 'plusMinus': None, 'comment': 'DND - Injury / Illness'}, {'player': {'id': 1889, 'firstname': 'Cam', 'lastname': 'Reddish'}, 'team': {'id': 1, 'name': 'Atlanta Hawks', 'nickname': 'Hawks', 'code': 'ATL', 'logo': 'https://upload.wikimedia.org/wikipedia/fr/e/ee/Hawks_2016.png'}, 'game': {'id': 8133}, 'points': 13, 'pos': None, 'min': '22:58', 'fgm': 4, 'fga': 10, 'fgp': '40.0', 'ftm': 4, 'fta': 4, 'ftp': '100', 'tpm': 1, 'tpa': 3, 'tpp': '33.3', 'offReb': 1, 'defReb': 7, 'totReb': 8, 'assists': 3, 'pFouls': 2, 'steals': 1, 'turnovers': 6, 'blocks': 0, 'plusMinus': '-2', 'comment': None}, {'player': {'id': 455, 'firstname': 'Rajon', 'lastname': 'Rondo'}, 'team': {'id': 1, 'name': 'Atlanta Hawks', 'nickname': 'Hawks', 'code': 'ATL', 'logo': 'https://upload.wikimedia.org/wikipedia/fr/e/ee/Hawks_2016.png'}, 'game': {'id': 8133}, 'points': None, 'pos': None, 'min': None, 'fgm': None, 'fga': None, 'fgp': None, 'ftm': None, 'fta': None, 'ftp': None, 'tpm': None, 'tpa': None, 'tpp': None, 'offReb': None, 'defReb': None, 'totReb': None, 'assists': None, 'pFouls': None, 'steals': None, 'turnovers': None, 'blocks': None, 'plusMinus': None, 'comment': 'DND - Injury / Illness'}, {'player': {'id': 492, 'firstname': 'Tony', 'lastname': 'Snell'}, 'team': {'id': 1, 'name': 'Atlanta Hawks', 'nickname': 'Hawks', 'code': 'ATL', 'logo': 'https://upload.wikimedia.org/wikipedia/fr/e/ee/Hawks_2016.png'}, 'game': {'id': 8133}, 'points': None, 'pos': None, 'min': None, 'fgm': None, 'fga': None, 'fgp': None, 'ftm': None, 'fta': None, 'ftp': None, 'tpm': None, 'tpa': None, 'tpp': None, 'offReb': None, 'defReb': None, 'totReb': None, 'assists': None, 'pFouls': None, 'steals': None, 'turnovers': None, 'blocks': None, 'plusMinus': None, 'comment': 'NWT - Injury / Illness'}]}\n"
     ]
    }
   ],
   "source": [
    "#https://rapidapi.com/api-sports/api/api-nba/playground/apiendpoint_5b1e1e9a-1497-45b5-b9fb-50f9212d4421\n",
    "\n",
    "#player statistics per game id\n",
    "\n",
    "\n",
    "import requests\n",
    "\n",
    "url = \"https://api-nba-v1.p.rapidapi.com/players/statistics\"\n",
    "\n",
    "querystring = {\"game\":\"8133\"}\n",
    "\n",
    "headers = {\n",
    "\t\"x-rapidapi-key\": \"6d8471b900msh64f82e14a3ea8c4p1e6eedjsn363222b8f5fe\",\n",
    "\t\"x-rapidapi-host\": \"api-nba-v1.p.rapidapi.com\"\n",
    "}\n",
    "\n",
    "response = requests.get(url, headers=headers, params=querystring)\n",
    "\n",
    "print(response.json())\n"
   ]
  },
  {
   "cell_type": "code",
   "execution_count": 11,
   "metadata": {},
   "outputs": [
    {
     "name": "stdout",
     "output_type": "stream",
     "text": [
      "Data has been saved to seasons/2015_season.json\n",
      "Data has been saved to seasons/2016_season.json\n",
      "Data has been saved to seasons/2017_season.json\n",
      "Data has been saved to seasons/2018_season.json\n",
      "Data has been saved to seasons/2019_season.json\n",
      "Data has been saved to seasons/2020_season.json\n",
      "Data has been saved to seasons/2021_season.json\n",
      "Data has been saved to seasons/2022_season.json\n",
      "Data has been saved to seasons/2023_season.json\n",
      "Data has been saved to seasons/2024_season.json\n"
     ]
    }
   ],
   "source": [
    "#https://rapidapi.com/api-sports/api/api-nba/playground/apiendpoint_be16eeb7-56ae-4b3b-93c8-a6392c29626e\n",
    "\n",
    "#games per season\n",
    "\n",
    "\n",
    "\n",
    "import requests\n",
    "\n",
    "def games_per_season(season: int) -> dict:\n",
    "    season = str(season)\n",
    "    url = \"https://api-nba-v1.p.rapidapi.com/games\"\n",
    "\n",
    "    querystring = {\"season\":season}\n",
    "\n",
    "    headers = {\n",
    "        \"x-rapidapi-key\": \"6d8471b900msh64f82e14a3ea8c4p1e6eedjsn363222b8f5fe\",\n",
    "        \"x-rapidapi-host\": \"api-nba-v1.p.rapidapi.com\"\n",
    "    }\n",
    "\n",
    "    response = requests.get(url, headers=headers, params=querystring)\n",
    "\n",
    "    return response.json()\n",
    "\n",
    "\n",
    "seasons = [2015, 2016, 2017, 2018, 2019, 2020, 2021, 2022, 2023, 2024]\n",
    "\n",
    "from tools import save_json\n",
    "\n",
    "\n",
    "\n",
    "for szn in seasons:\n",
    "    games = games_per_season(szn)\n",
    "    save_json('seasons/'+str(szn)+'_season.json', games)"
   ]
  },
  {
   "cell_type": "code",
   "execution_count": 47,
   "metadata": {},
   "outputs": [
    {
     "name": "stdout",
     "output_type": "stream",
     "text": [
      "Data has been saved to seasons/2024_season.json\n"
     ]
    }
   ],
   "source": [
    "games = games_per_season(2024)\n",
    "save_json('seasons/'+str(szn)+'_season.json', games)"
   ]
  },
  {
   "cell_type": "markdown",
   "metadata": {},
   "source": [
    "Let's just analyze a specific game's file size to see how big each individual game is. I think we'll have between 13k-14k games."
   ]
  },
  {
   "cell_type": "code",
   "execution_count": null,
   "metadata": {},
   "outputs": [
    {
     "name": "stdout",
     "output_type": "stream",
     "text": [
      "Data has been saved to test_game.json\n"
     ]
    }
   ],
   "source": [
    "def stats_per_gameid(game_id: str) -> dict:\n",
    "    url = \"https://api-nba-v1.p.rapidapi.com/players/statistics\"\n",
    "\n",
    "    querystring = {\"game\":\"8133\"}\n",
    "\n",
    "    headers = {\n",
    "        \"x-rapidapi-key\": \"6d8471b900msh64f82e14a3ea8c4p1e6eedjsn363222b8f5fe\",\n",
    "        \"x-rapidapi-host\": \"api-nba-v1.p.rapidapi.com\"\n",
    "    }\n",
    "\n",
    "    response = requests.get(url, headers=headers, params=querystring)\n",
    "\n",
    "    return response.json()\n",
    "\n",
    "\n",
    "game = stats_per_gameid('2842')\n",
    "\n",
    "save_json('test_game.json',game)"
   ]
  },
  {
   "cell_type": "code",
   "execution_count": 53,
   "metadata": {},
   "outputs": [
    {
     "name": "stdout",
     "output_type": "stream",
     "text": [
      "dict_keys(['get', 'parameters', 'errors', 'results', 'response'])\n",
      "dict_keys(['get', 'parameters', 'errors', 'results', 'response'])\n",
      "dict_keys(['get', 'parameters', 'errors', 'results', 'response'])\n",
      "dict_keys(['get', 'parameters', 'errors', 'results', 'response'])\n",
      "dict_keys(['get', 'parameters', 'errors', 'results', 'response'])\n",
      "dict_keys(['get', 'parameters', 'errors', 'results', 'response'])\n",
      "dict_keys(['get', 'parameters', 'errors', 'results', 'response'])\n",
      "dict_keys(['get', 'parameters', 'errors', 'results', 'response'])\n",
      "dict_keys(['get', 'parameters', 'errors', 'results', 'response'])\n",
      "dict_keys(['get', 'parameters', 'errors', 'results', 'response'])\n"
     ]
    }
   ],
   "source": [
    "from tools import open_json\n",
    "\n",
    "game_ids = {}\n",
    "\n",
    "\n",
    "for szn in seasons:\n",
    "    season = open_json('seasons/'+str(szn)+'_season.json')\n",
    "    print(season.keys())\n",
    "    season = season['response']\n",
    "    cur = []\n",
    "    for i in range(len(season)):\n",
    "        cur.append(season[i]['id'])\n",
    "    game_ids[szn] = cur\n",
    "\n",
    "\n",
    "    "
   ]
  },
  {
   "cell_type": "code",
   "execution_count": null,
   "metadata": {},
   "outputs": [
    {
     "name": "stdout",
     "output_type": "stream",
     "text": [
      "14368\n",
      "False\n"
     ]
    }
   ],
   "source": [
    "print(len(game_ids))\n",
    "\n",
    "arr = [i+1 for i in range(14367)]\n",
    "\n"
   ]
  },
  {
   "cell_type": "code",
   "execution_count": 52,
   "metadata": {},
   "outputs": [
    {
     "name": "stdout",
     "output_type": "stream",
     "text": [
      "[469, 452, 443, 436, 370, 7, 349, 384, 15, 487, 460, 434, 406, 52, 45, 9, 35, 21, 25, 5, 26, 2, 18, 8, 108, 66, 48, 68, 47, 19, 7, 25, 43, 8, 16, 6, 5, 7, 13, 10, 9, 4, 155, 3, 2, 122, 61, 8, 58, 596, 211, 2, 4, 2, 802, 20, 23, 33, 9, 7, 48, 355, 68, 47, 19, 41, 7, 29, 12, 6, 3, 3, 36, 26, 27, 32, 2, 16, 14, 2, 2, 53, 42, 155, 3, 2, 82, 160, 8, 7, 48, 68, 47, 19, 13, 4, 2, 6, 3, 52, 16, 86, 2, 2, 2, 6, 2, 5, 2, 2, 2, 4, 1305, 2, 2, 2, 2, 153, 2, 3, 6, 2, 5, 2, 3, 2, 5]\n"
     ]
    }
   ],
   "source": [
    "gaps = []\n",
    "for i in range(1, len(game_ids)):\n",
    "    if game_ids[i]-game_ids[i-1] > 1: gaps.append(game_ids[i]-game_ids[i-1])\n",
    "\n",
    "print(gaps)"
   ]
  },
  {
   "cell_type": "markdown",
   "metadata": {},
   "source": [
    "why are there gaps in the ids? that's odd. whatever           "
   ]
  },
  {
   "cell_type": "code",
   "execution_count": 57,
   "metadata": {},
   "outputs": [
    {
     "name": "stdout",
     "output_type": "stream",
     "text": [
      "0.0700770847932726% done! (season 2015)\n",
      "7.077785564120533% done! (season 2015)\n",
      "14.085494043447794% done! (season 2015)\n",
      "21.093202522775055% done! (season 2015)\n",
      "28.100911002102315% done! (season 2015)\n",
      "35.10861948142957% done! (season 2015)\n",
      "42.116327960756834% done! (season 2015)\n",
      "49.12403644008409% done! (season 2015)\n",
      "56.131744919411354% done! (season 2015)\n",
      "63.13945339873861% done! (season 2015)\n",
      "70.14716187806587% done! (season 2015)\n",
      "77.15487035739314% done! (season 2015)\n",
      "84.16257883672039% done! (season 2015)\n",
      "91.17028731604765% done! (season 2015)\n",
      "98.17799579537491% done! (season 2015)\n",
      "Data has been saved to games/all_games_2015.json\n",
      "0.07072135785007072% done! (season 2016)\n",
      "7.142857142857142% done! (season 2016)\n",
      "14.214992927864214% done! (season 2016)\n",
      "21.287128712871286% done! (season 2016)\n",
      "28.35926449787836% done! (season 2016)\n",
      "35.431400282885434% done! (season 2016)\n",
      "42.503536067892504% done! (season 2016)\n",
      "49.575671852899575% done! (season 2016)\n",
      "56.647807637906645% done! (season 2016)\n",
      "63.719943422913715% done! (season 2016)\n",
      "70.79207920792079% done! (season 2016)\n",
      "77.86421499292786% done! (season 2016)\n",
      "84.93635077793493% done! (season 2016)\n",
      "92.00848656294201% done! (season 2016)\n",
      "99.08062234794907% done! (season 2016)\n",
      "Data has been saved to games/all_games_2016.json\n",
      "0.06821282401091405% done! (season 2017)\n",
      "6.88949522510232% done! (season 2017)\n",
      "13.710777626193723% done! (season 2017)\n",
      "20.53206002728513% done! (season 2017)\n",
      "27.353342428376536% done! (season 2017)\n",
      "34.174624829467945% done! (season 2017)\n",
      "40.99590723055935% done! (season 2017)\n",
      "47.817189631650756% done! (season 2017)\n",
      "54.63847203274216% done! (season 2017)\n",
      "61.45975443383356% done! (season 2017)\n",
      "68.28103683492498% done! (season 2017)\n",
      "75.10231923601637% done! (season 2017)\n",
      "81.92360163710778% done! (season 2017)\n",
      "88.74488403819917% done! (season 2017)\n",
      "95.56616643929058% done! (season 2017)\n",
      "Data has been saved to games/all_games_2017.json\n",
      "0.06613756613756613% done! (season 2018)\n",
      "6.67989417989418% done! (season 2018)\n",
      "13.293650793650794% done! (season 2018)\n",
      "19.90740740740741% done! (season 2018)\n",
      "26.521164021164022% done! (season 2018)\n",
      "33.13492063492063% done! (season 2018)\n",
      "39.74867724867725% done! (season 2018)\n",
      "46.36243386243386% done! (season 2018)\n",
      "52.976190476190474% done! (season 2018)\n",
      "59.589947089947096% done! (season 2018)\n",
      "66.20370370370371% done! (season 2018)\n",
      "72.81746031746032% done! (season 2018)\n",
      "79.43121693121694% done! (season 2018)\n",
      "86.04497354497354% done! (season 2018)\n",
      "92.65873015873017% done! (season 2018)\n",
      "99.27248677248677% done! (season 2018)\n",
      "Data has been saved to games/all_games_2018.json\n",
      "0.06097560975609756% done! (season 2019)\n",
      "6.158536585365853% done! (season 2019)\n",
      "12.25609756097561% done! (season 2019)\n",
      "18.353658536585364% done! (season 2019)\n",
      "24.45121951219512% done! (season 2019)\n",
      "30.548780487804876% done! (season 2019)\n",
      "36.646341463414636% done! (season 2019)\n",
      "42.74390243902439% done! (season 2019)\n",
      "48.84146341463415% done! (season 2019)\n",
      "54.93902439024391% done! (season 2019)\n",
      "61.036585365853654% done! (season 2019)\n",
      "67.13414634146342% done! (season 2019)\n",
      "73.23170731707317% done! (season 2019)\n",
      "79.32926829268293% done! (season 2019)\n",
      "85.42682926829268% done! (season 2019)\n",
      "91.52439024390245% done! (season 2019)\n",
      "97.6219512195122% done! (season 2019)\n",
      "Data has been saved to games/all_games_2019.json\n",
      "0.08058017727639001% done! (season 2020)\n",
      "8.138597904915391% done! (season 2020)\n",
      "16.196615632554394% done! (season 2020)\n",
      "24.25463336019339% done! (season 2020)\n",
      "32.31265108783239% done! (season 2020)\n",
      "40.3706688154714% done! (season 2020)\n",
      "48.428686543110395% done! (season 2020)\n",
      "56.4867042707494% done! (season 2020)\n",
      "64.5447219983884% done! (season 2020)\n",
      "72.6027397260274% done! (season 2020)\n",
      "80.66075745366639% done! (season 2020)\n",
      "88.7187751813054% done! (season 2020)\n",
      "96.7767929089444% done! (season 2020)\n",
      "Data has been saved to games/all_games_2020.json\n",
      "0.06693440428380187% done! (season 2021)\n",
      "6.760374832663989% done! (season 2021)\n",
      "13.453815261044177% done! (season 2021)\n",
      "20.147255689424366% done! (season 2021)\n",
      "26.84069611780455% done! (season 2021)\n",
      "33.53413654618474% done! (season 2021)\n",
      "40.227576974564926% done! (season 2021)\n",
      "46.92101740294511% done! (season 2021)\n",
      "53.6144578313253% done! (season 2021)\n",
      "60.30789825970548% done! (season 2021)\n",
      "67.00133868808568% done! (season 2021)\n",
      "73.69477911646585% done! (season 2021)\n",
      "80.38821954484605% done! (season 2021)\n",
      "87.08165997322624% done! (season 2021)\n",
      "93.77510040160642% done! (season 2021)\n",
      "Data has been saved to games/all_games_2021.json\n",
      "0.06765899864682003% done! (season 2022)\n",
      "6.833558863328823% done! (season 2022)\n",
      "13.599458728010823% done! (season 2022)\n",
      "20.36535859269283% done! (season 2022)\n",
      "27.13125845737483% done! (season 2022)\n",
      "33.89715832205684% done! (season 2022)\n",
      "40.66305818673884% done! (season 2022)\n",
      "47.428958051420835% done! (season 2022)\n",
      "54.19485791610285% done! (season 2022)\n",
      "60.960757780784846% done! (season 2022)\n",
      "67.72665764546684% done! (season 2022)\n",
      "74.49255751014886% done! (season 2022)\n",
      "81.25845737483085% done! (season 2022)\n",
      "88.02435723951285% done! (season 2022)\n",
      "94.79025710419485% done! (season 2022)\n",
      "Data has been saved to games/all_games_2022.json\n",
      "0.07194244604316546% done! (season 2023)\n",
      "7.266187050359712% done! (season 2023)\n",
      "14.46043165467626% done! (season 2023)\n",
      "21.654676258992804% done! (season 2023)\n",
      "28.848920863309353% done! (season 2023)\n",
      "36.0431654676259% done! (season 2023)\n",
      "43.23741007194244% done! (season 2023)\n",
      "50.431654676258994% done! (season 2023)\n",
      "57.625899280575545% done! (season 2023)\n",
      "64.82014388489209% done! (season 2023)\n",
      "72.01438848920864% done! (season 2023)\n",
      "79.20863309352518% done! (season 2023)\n",
      "86.40287769784173% done! (season 2023)\n",
      "93.59712230215827% done! (season 2023)\n",
      "Data has been saved to games/all_games_2023.json\n",
      "0.0765696784073507% done! (season 2024)\n",
      "7.73353751914242% done! (season 2024)\n",
      "15.390505359877487% done! (season 2024)\n",
      "23.047473200612558% done! (season 2024)\n",
      "30.704441041347625% done! (season 2024)\n",
      "38.36140888208269% done! (season 2024)\n",
      "46.01837672281776% done! (season 2024)\n",
      "53.67534456355283% done! (season 2024)\n",
      "61.332312404287904% done! (season 2024)\n",
      "68.98928024502297% done! (season 2024)\n",
      "76.64624808575805% done! (season 2024)\n",
      "84.30321592649311% done! (season 2024)\n",
      "91.96018376722817% done! (season 2024)\n",
      "99.61715160796325% done! (season 2024)\n",
      "Data has been saved to games/all_games_2024.json\n"
     ]
    }
   ],
   "source": [
    "import time\n",
    "\n",
    "for season, games in game_ids.items():\n",
    "    season_dict = {}\n",
    "    for idx, game_id in enumerate(games):\n",
    "        game = stats_per_gameid(game_id)\n",
    "        if 'response' not in game.keys():\n",
    "            print(game)\n",
    "            raise Exception('BAD RESPONSE!')\n",
    "        season_dict[game_id] = game\n",
    "        time.sleep(0.14)\n",
    "        done = (idx+1) / len(games) * 100\n",
    "        if idx % 100 == 0:\n",
    "            print(str(done) + '% done! (season '+ str(season)+')')\n",
    "\n",
    "        \n",
    "\n",
    "    save_json('games/all_games_'+str(season)+'.json',season_dict)\n",
    "    "
   ]
  },
  {
   "cell_type": "code",
   "execution_count": 58,
   "metadata": {},
   "outputs": [
    {
     "name": "stdout",
     "output_type": "stream",
     "text": [
      "dict_keys(['1', '2', '3', '4', '5', '6', '7', '8', '9', '10', '11', '12', '13', '14', '15', '16', '17', '18', '19', '20', '21', '22', '23', '24', '25', '26', '27', '28', '29', '30', '31', '32', '33', '34', '35', '36', '37', '38', '39', '40', '41', '42', '43', '44', '45', '46', '47', '48', '49', '50', '51', '52', '53', '54', '55', '56', '57', '58', '59', '60', '61', '62', '63', '64', '65', '66', '67', '68', '69', '70', '71', '72', '73', '74', '75', '76', '77', '78', '79', '80', '81', '82', '83', '84', '85', '86', '87', '88', '89', '90', '91', '92', '93', '94', '95', '96', '97', '98', '99', '100', '101', '102', '103', '104', '105', '106', '107', '108', '109', '110', '111', '112', '113', '114', '115', '116', '117', '118', '119', '120', '121', '122', '123', '124', '125', '126', '127', '128', '129', '130', '131', '132', '133', '134', '135', '136', '137', '138', '139', '140', '141', '142', '143', '144', '145', '146', '147', '148', '149', '150', '151', '152', '153', '154', '155', '156', '157', '158', '159', '160', '161', '162', '163', '164', '165', '166', '167', '168', '169', '170', '171', '172', '173', '174', '175', '176', '177', '178', '179', '180', '181', '182', '183', '184', '185', '186', '187', '188', '189', '190', '191', '192', '193', '194', '195', '196', '197', '198', '199', '200', '201', '202', '203', '204', '205', '206', '207', '208', '209', '210', '211', '212', '213', '214', '215', '216', '217', '218', '219', '220', '221', '222', '223', '224', '225', '226', '227', '228', '229', '230', '231', '232', '233', '234', '235', '236', '237', '238', '239', '240', '241', '242', '243', '244', '245', '246', '247', '248', '249', '250', '251', '252', '253', '254', '255', '256', '257', '258', '259', '260', '261', '262', '263', '264', '265', '266', '267', '268', '269', '270', '271', '272', '273', '274', '275', '276', '277', '278', '279', '280', '281', '282', '283', '284', '285', '286', '287', '288', '289', '290', '291', '292', '293', '294', '295', '296', '297', '298', '299', '300', '301', '302', '303', '304', '305', '306', '307', '308', '309', '310', '311', '312', '313', '314', '315', '316', '317', '318', '319', '320', '321', '322', '323', '324', '325', '326', '327', '328', '329', '330', '331', '332', '333', '334', '335', '336', '337', '338', '339', '340', '341', '342', '343', '344', '345', '346', '347', '348', '349', '350', '351', '352', '353', '354', '355', '356', '357', '358', '359', '360', '361', '362', '363', '364', '365', '366', '367', '368', '369', '370', '371', '372', '373', '374', '375', '376', '377', '378', '379', '380', '381', '382', '383', '384', '385', '386', '387', '388', '389', '390', '391', '392', '393', '394', '395', '396', '397', '398', '399', '400', '401', '402', '403', '404', '405', '406', '407', '408', '409', '410', '411', '412', '413', '414', '415', '416', '417', '418', '419', '420', '421', '422', '423', '424', '425', '426', '427', '428', '429', '430', '431', '432', '433', '434', '435', '436', '437', '438', '439', '440', '441', '442', '443', '444', '445', '446', '447', '448', '449', '450', '451', '452', '453', '454', '455', '456', '457', '458', '459', '460', '461', '462', '463', '464', '465', '466', '467', '468', '469', '470', '471', '472', '473', '474', '475', '476', '477', '478', '479', '480', '481', '482', '483', '484', '485', '486', '487', '488', '489', '490', '491', '492', '493', '494', '495', '496', '497', '498', '499', '500', '501', '502', '503', '504', '505', '506', '507', '508', '509', '510', '511', '512', '513', '514', '515', '516', '517', '518', '519', '520', '521', '522', '523', '524', '525', '526', '527', '528', '529', '530', '531', '532', '533', '534', '535', '536', '537', '538', '539', '540', '541', '542', '543', '544', '545', '546', '547', '548', '549', '550', '551', '552', '553', '554', '555', '556', '557', '558', '559', '560', '561', '562', '563', '564', '565', '566', '567', '568', '569', '570', '571', '572', '573', '574', '575', '576', '577', '578', '579', '580', '581', '582', '583', '584', '585', '586', '587', '588', '589', '590', '591', '592', '593', '594', '595', '596', '597', '598', '599', '600', '601', '602', '603', '604', '605', '606', '607', '608', '609', '610', '611', '612', '613', '614', '615', '616', '617', '618', '619', '620', '621', '622', '623', '624', '625', '626', '627', '628', '629', '630', '631', '632', '633', '634', '635', '636', '637', '638', '639', '640', '641', '642', '643', '644', '645', '646', '647', '648', '649', '650', '651', '652', '653', '654', '655', '656', '657', '658', '659', '660', '661', '662', '663', '664', '665', '666', '667', '668', '669', '670', '671', '672', '673', '674', '675', '676', '677', '678', '679', '680', '681', '682', '683', '684', '685', '686', '687', '688', '689', '690', '691', '692', '693', '694', '695', '696', '697', '698', '699', '700', '701', '702', '703', '704', '705', '706', '707', '708', '709', '710', '711', '712', '713', '714', '715', '716', '717', '718', '719', '720', '721', '722', '723', '724', '725', '726', '727', '728', '729', '730', '731', '732', '733', '734', '735', '736', '737', '738', '739', '740', '741', '742', '743', '744', '745', '746', '747', '748', '749', '750', '751', '752', '753', '754', '755', '756', '757', '758', '759', '760', '761', '762', '763', '764', '765', '766', '767', '768', '769', '770', '771', '772', '773', '774', '775', '776', '777', '778', '779', '780', '781', '782', '783', '784', '785', '786', '787', '788', '789', '790', '791', '792', '793', '794', '795', '796', '797', '798', '799', '800', '801', '802', '803', '804', '805', '806', '807', '808', '809', '810', '811', '812', '813', '814', '815', '816', '817', '818', '819', '820', '821', '822', '823', '824', '825', '826', '827', '828', '829', '830', '831', '832', '833', '834', '835', '836', '837', '838', '839', '840', '841', '842', '843', '844', '845', '846', '847', '848', '849', '850', '851', '852', '853', '854', '855', '856', '857', '858', '859', '860', '861', '862', '863', '864', '865', '866', '867', '868', '869', '870', '871', '872', '873', '874', '875', '876', '877', '878', '879', '880', '881', '882', '883', '884', '885', '886', '887', '888', '889', '890', '891', '892', '893', '894', '895', '896', '897', '898', '899', '900', '901', '902', '903', '904', '905', '906', '907', '908', '909', '910', '911', '912', '913', '914', '915', '916', '917', '918', '919', '920', '921', '922', '923', '924', '925', '926', '927', '928', '929', '930', '931', '932', '933', '934', '935', '936', '937', '938', '939', '940', '941', '942', '943', '944', '945', '946', '947', '948', '949', '950', '951', '952', '953', '954', '955', '956', '957', '958', '959', '960', '961', '962', '963', '964', '965', '966', '967', '968', '969', '970', '971', '972', '973', '974', '975', '976', '977', '978', '979', '980', '981', '982', '983', '984', '985', '986', '987', '988', '989', '990', '991', '992', '993', '994', '995', '996', '997', '998', '999', '1000', '1001', '1002', '1003', '1004', '1005', '1006', '1007', '1008', '1009', '1010', '1011', '1012', '1013', '1014', '1015', '1016', '1017', '1018', '1019', '1020', '1021', '1022', '1023', '1024', '1025', '1026', '1027', '1028', '1029', '1030', '1031', '1032', '1033', '1034', '1035', '1036', '1037', '1038', '1039', '1040', '1041', '1042', '1043', '1044', '1045', '1046', '1047', '1048', '1049', '1050', '1051', '1052', '1053', '1054', '1055', '1056', '1057', '1058', '1059', '1060', '1061', '1062', '1063', '1064', '1065', '1066', '1067', '1068', '1069', '1070', '1071', '1072', '1073', '1074', '1075', '1076', '1077', '1078', '1079', '1080', '1081', '1082', '1083', '1084', '1085', '1086', '1087', '1088', '1089', '1090', '1091', '1092', '1093', '1094', '1095', '1096', '1097', '1098', '1099', '1100', '1101', '1102', '1103', '1104', '1105', '1106', '1107', '1108', '1109', '1110', '1111', '1112', '1113', '1114', '1115', '1116', '1117', '1118', '1119', '1120', '1121', '1122', '1123', '1124', '1125', '1126', '1127', '1128', '1129', '1130', '1131', '1132', '1133', '1134', '1135', '1136', '1137', '1138', '1139', '1140', '1141', '1142', '1143', '1144', '1145', '1146', '1147', '1148', '1149', '1150', '1151', '1152', '1153', '1154', '1155', '1156', '1157', '1158', '1159', '1160', '1161', '1162', '1163', '1164', '1165', '1166', '1167', '1168', '1169', '1170', '1171', '1172', '1173', '1174', '1175', '1176', '1177', '1178', '1179', '1180', '1181', '1182', '1183', '1184', '1185', '1186', '1187', '1188', '1189', '1190', '1191', '1192', '1193', '1194', '1195', '1196', '1197', '1198', '1199', '1200', '1201', '1202', '1203', '1204', '1205', '1206', '1207', '1208', '1209', '1210', '1211', '1212', '1213', '1214', '1215', '1216', '1217', '1218', '1219', '1220', '1221', '1222', '1223', '1224', '1225', '1226', '1227', '1228', '1229', '1230', '1231', '1232', '1233', '1234', '1235', '1236', '1237', '1238', '1239', '1240', '1241', '1242', '1243', '1244', '1245', '1246', '1247', '1248', '1249', '1250', '1251', '1252', '1253', '1254', '1255', '1256', '1257', '1258', '1259', '1260', '1261', '1262', '1263', '1264', '1265', '1266', '1267', '1268', '1269', '1270', '1271', '1272', '1273', '1274', '1275', '1276', '1277', '1278', '1279', '1280', '1281', '1282', '1283', '1284', '1285', '1286', '1287', '1288', '1289', '1290', '1291', '1292', '1293', '1294', '1295', '1296', '1297', '1298', '1299', '1300', '1301', '1302', '1303', '1304', '1305', '1306', '1307', '1308', '1309', '1310', '1311', '1312', '1313', '1314', '1315', '1316', '1317', '1318', '1319', '1320', '1321', '1322', '1323', '1324', '1325', '1326', '1327', '1328', '1329', '1330', '1331', '1332', '1333', '1334', '1335', '1336', '1337', '1338', '1339', '1340', '1341', '1342', '1343', '1344', '1345', '1346', '1347', '1348', '1349', '1350', '1351', '1352', '1353', '1354', '1355', '1356', '1357', '1358', '1359', '1360', '1361', '1362', '1363', '1364', '1365', '1366', '1367', '1368', '1369', '1370', '1371', '1372', '1373', '1374', '1375', '1376', '1377', '1378', '1379', '1380', '1381', '1382', '1383', '1384', '1385', '1386', '1387', '1388', '1389', '1390', '1391', '1392', '1393', '1394', '1395', '1396', '1397', '1398', '1399', '1400', '1401', '1402', '1403', '1404', '1405', '1406', '1407', '1408', '1409', '1410', '1411', '1412', '1413', '1414', '1415', '1416', '1417', '1418', '1419', '1420', '1421', '1422', '1423', '1424', '1425', '1426', '1427'])\n"
     ]
    }
   ],
   "source": [
    "games = open_json('games/all_games_2015.json')\n",
    "print(games.keys())"
   ]
  },
  {
   "cell_type": "code",
   "execution_count": 65,
   "metadata": {},
   "outputs": [
    {
     "name": "stdout",
     "output_type": "stream",
     "text": [
      "{'player': {'id': 734, 'firstname': 'Dwayne', 'lastname': 'Bacon'}, 'team': {'id': 26, 'name': 'Orlando Magic', 'nickname': 'Magic', 'code': 'ORL', 'logo': 'https://upload.wikimedia.org/wikipedia/fr/b/bd/Orlando_Magic_logo_2010.png'}, 'game': {'id': 8133}, 'points': 14, 'pos': 'SF', 'min': '21:56', 'fgm': 6, 'fga': 9, 'fgp': '66.7', 'ftm': 1, 'fta': 1, 'ftp': '100', 'tpm': 1, 'tpa': 3, 'tpp': '33.3', 'offReb': 0, 'defReb': 2, 'totReb': 2, 'assists': 1, 'pFouls': 1, 'steals': 2, 'turnovers': 1, 'blocks': 0, 'plusMinus': '6', 'comment': None}\n",
      "{'player': {'id': 195, 'firstname': 'Aaron', 'lastname': 'Gordon'}, 'team': {'id': 26, 'name': 'Orlando Magic', 'nickname': 'Magic', 'code': 'ORL', 'logo': 'https://upload.wikimedia.org/wikipedia/fr/b/bd/Orlando_Magic_logo_2010.png'}, 'game': {'id': 8133}, 'points': 12, 'pos': 'PF', 'min': '16:19', 'fgm': 4, 'fga': 7, 'fgp': '57.1', 'ftm': 3, 'fta': 3, 'ftp': '100', 'tpm': 1, 'tpa': 2, 'tpp': '50.0', 'offReb': 1, 'defReb': 2, 'totReb': 3, 'assists': 6, 'pFouls': 0, 'steals': 0, 'turnovers': 0, 'blocks': 0, 'plusMinus': '11', 'comment': None}\n",
      "{'player': {'id': 534, 'firstname': 'Nikola', 'lastname': 'Vucevic'}, 'team': {'id': 26, 'name': 'Orlando Magic', 'nickname': 'Magic', 'code': 'ORL', 'logo': 'https://upload.wikimedia.org/wikipedia/fr/b/bd/Orlando_Magic_logo_2010.png'}, 'game': {'id': 8133}, 'points': 18, 'pos': 'C', 'min': '25:20', 'fgm': 8, 'fga': 14, 'fgp': '57.1', 'ftm': 0, 'fta': 1, 'ftp': '0.0', 'tpm': 2, 'tpa': 7, 'tpp': '28.6', 'offReb': 1, 'defReb': 10, 'totReb': 11, 'assists': 4, 'pFouls': 2, 'steals': 1, 'turnovers': 1, 'blocks': 1, 'plusMinus': '25', 'comment': None}\n",
      "{'player': {'id': 177, 'firstname': 'Evan', 'lastname': 'Fournier'}, 'team': {'id': 26, 'name': 'Orlando Magic', 'nickname': 'Magic', 'code': 'ORL', 'logo': 'https://upload.wikimedia.org/wikipedia/fr/b/bd/Orlando_Magic_logo_2010.png'}, 'game': {'id': 8133}, 'points': 13, 'pos': 'SG', 'min': '24:51', 'fgm': 5, 'fga': 9, 'fgp': '55.6', 'ftm': 1, 'fta': 1, 'ftp': '100', 'tpm': 2, 'tpa': 5, 'tpp': '40.0', 'offReb': 0, 'defReb': 1, 'totReb': 1, 'assists': 2, 'pFouls': 2, 'steals': 2, 'turnovers': 1, 'blocks': 1, 'plusMinus': '22', 'comment': None}\n",
      "{'player': {'id': 779, 'firstname': 'Markelle', 'lastname': 'Fultz'}, 'team': {'id': 26, 'name': 'Orlando Magic', 'nickname': 'Magic', 'code': 'ORL', 'logo': 'https://upload.wikimedia.org/wikipedia/fr/b/bd/Orlando_Magic_logo_2010.png'}, 'game': {'id': 8133}, 'points': 10, 'pos': 'PG', 'min': '25:26', 'fgm': 4, 'fga': 7, 'fgp': '57.1', 'ftm': 1, 'fta': 2, 'ftp': '50.0', 'tpm': 1, 'tpa': 3, 'tpp': '33.3', 'offReb': 0, 'defReb': 3, 'totReb': 3, 'assists': 4, 'pFouls': 3, 'steals': 1, 'turnovers': 4, 'blocks': 0, 'plusMinus': '21', 'comment': None}\n",
      "{'player': {'id': 12, 'firstname': 'Al-Farouq', 'lastname': 'Aminu'}, 'team': {'id': 26, 'name': 'Orlando Magic', 'nickname': 'Magic', 'code': 'ORL', 'logo': 'https://upload.wikimedia.org/wikipedia/fr/b/bd/Orlando_Magic_logo_2010.png'}, 'game': {'id': 8133}, 'points': None, 'pos': None, 'min': None, 'fgm': None, 'fga': None, 'fgp': None, 'ftm': None, 'fta': None, 'ftp': None, 'tpm': None, 'tpa': None, 'tpp': None, 'offReb': None, 'defReb': None, 'totReb': None, 'assists': None, 'pFouls': None, 'steals': None, 'turnovers': None, 'blocks': None, 'plusMinus': None, 'comment': 'DND - Injury / Illness'}\n",
      "{'player': {'id': 2563, 'firstname': 'Cole', 'lastname': 'Anthony'}, 'team': {'id': 26, 'name': 'Orlando Magic', 'nickname': 'Magic', 'code': 'ORL', 'logo': 'https://upload.wikimedia.org/wikipedia/fr/b/bd/Orlando_Magic_logo_2010.png'}, 'game': {'id': 8133}, 'points': 7, 'pos': None, 'min': '19:59', 'fgm': 3, 'fga': 10, 'fgp': '30.0', 'ftm': 0, 'fta': 0, 'ftp': '0.0', 'tpm': 1, 'tpa': 4, 'tpp': '25.0', 'offReb': 0, 'defReb': 1, 'totReb': 1, 'assists': 3, 'pFouls': 5, 'steals': 1, 'turnovers': 3, 'blocks': 0, 'plusMinus': '-20', 'comment': None}\n",
      "{'player': {'id': 932, 'firstname': 'Mo', 'lastname': 'Bamba'}, 'team': {'id': 26, 'name': 'Orlando Magic', 'nickname': 'Magic', 'code': 'ORL', 'logo': 'https://upload.wikimedia.org/wikipedia/fr/b/bd/Orlando_Magic_logo_2010.png'}, 'game': {'id': 8133}, 'points': None, 'pos': None, 'min': None, 'fgm': None, 'fga': None, 'fgp': None, 'ftm': None, 'fta': None, 'ftp': None, 'tpm': None, 'tpa': None, 'tpp': None, 'offReb': None, 'defReb': None, 'totReb': None, 'assists': None, 'pFouls': None, 'steals': None, 'turnovers': None, 'blocks': None, 'plusMinus': None, 'comment': 'DND - Injury / Illness'}\n",
      "{'player': {'id': 739, 'firstname': 'Khem', 'lastname': 'Birch'}, 'team': {'id': 26, 'name': 'Orlando Magic', 'nickname': 'Magic', 'code': 'ORL', 'logo': 'https://upload.wikimedia.org/wikipedia/fr/b/bd/Orlando_Magic_logo_2010.png'}, 'game': {'id': 8133}, 'points': 8, 'pos': None, 'min': '17:56', 'fgm': 3, 'fga': 4, 'fgp': '75.0', 'ftm': 2, 'fta': 3, 'ftp': '66.7', 'tpm': 0, 'tpa': 0, 'tpp': '0.0', 'offReb': 3, 'defReb': 5, 'totReb': 8, 'assists': 0, 'pFouls': 3, 'steals': 1, 'turnovers': 2, 'blocks': 1, 'plusMinus': '-23', 'comment': None}\n",
      "{'player': {'id': 1850, 'firstname': 'Jordan', 'lastname': 'Bone'}, 'team': {'id': 26, 'name': 'Orlando Magic', 'nickname': 'Magic', 'code': 'ORL', 'logo': 'https://upload.wikimedia.org/wikipedia/fr/b/bd/Orlando_Magic_logo_2010.png'}, 'game': {'id': 8133}, 'points': 5, 'pos': None, 'min': '5:43', 'fgm': 1, 'fga': 3, 'fgp': '33.3', 'ftm': 2, 'fta': 2, 'ftp': '100', 'tpm': 1, 'tpa': 2, 'tpp': '50.0', 'offReb': 0, 'defReb': 2, 'totReb': 2, 'assists': 1, 'pFouls': 0, 'steals': 0, 'turnovers': 0, 'blocks': 0, 'plusMinus': '0', 'comment': None}\n",
      "{'player': {'id': 2532, 'firstname': 'Devin', 'lastname': 'Cannady'}, 'team': {'id': 26, 'name': 'Orlando Magic', 'nickname': 'Magic', 'code': 'ORL', 'logo': 'https://upload.wikimedia.org/wikipedia/fr/b/bd/Orlando_Magic_logo_2010.png'}, 'game': {'id': 8133}, 'points': 3, 'pos': None, 'min': '7:07', 'fgm': 1, 'fga': 3, 'fgp': '33.3', 'ftm': 0, 'fta': 0, 'ftp': '0.0', 'tpm': 1, 'tpa': 2, 'tpp': '50.0', 'offReb': 0, 'defReb': 1, 'totReb': 1, 'assists': 1, 'pFouls': 1, 'steals': 0, 'turnovers': 0, 'blocks': 1, 'plusMinus': '-8', 'comment': None}\n",
      "{'player': {'id': 95, 'firstname': 'Michael', 'lastname': 'Carter-Williams'}, 'team': {'id': 26, 'name': 'Orlando Magic', 'nickname': 'Magic', 'code': 'ORL', 'logo': 'https://upload.wikimedia.org/wikipedia/fr/b/bd/Orlando_Magic_logo_2010.png'}, 'game': {'id': 8133}, 'points': 10, 'pos': None, 'min': '24:55', 'fgm': 4, 'fga': 13, 'fgp': '30.8', 'ftm': 2, 'fta': 4, 'ftp': '50.0', 'tpm': 0, 'tpa': 4, 'tpp': '0.0', 'offReb': 2, 'defReb': 3, 'totReb': 5, 'assists': 3, 'pFouls': 2, 'steals': 0, 'turnovers': 1, 'blocks': 2, 'plusMinus': '-12', 'comment': None}\n",
      "{'player': {'id': 953, 'firstname': 'Gary', 'lastname': 'Clark'}, 'team': {'id': 26, 'name': 'Orlando Magic', 'nickname': 'Magic', 'code': 'ORL', 'logo': 'https://upload.wikimedia.org/wikipedia/fr/b/bd/Orlando_Magic_logo_2010.png'}, 'game': {'id': 8133}, 'points': 2, 'pos': None, 'min': '17:35', 'fgm': 0, 'fga': 2, 'fgp': '0.0', 'ftm': 2, 'fta': 2, 'ftp': '100', 'tpm': 0, 'tpa': 2, 'tpp': '0.0', 'offReb': 0, 'defReb': 3, 'totReb': 3, 'assists': 0, 'pFouls': 2, 'steals': 0, 'turnovers': 1, 'blocks': 1, 'plusMinus': '1', 'comment': None}\n",
      "{'player': {'id': 160, 'firstname': 'James', 'lastname': 'Ennis III'}, 'team': {'id': 26, 'name': 'Orlando Magic', 'nickname': 'Magic', 'code': 'ORL', 'logo': 'https://upload.wikimedia.org/wikipedia/fr/b/bd/Orlando_Magic_logo_2010.png'}, 'game': {'id': 8133}, 'points': None, 'pos': None, 'min': None, 'fgm': None, 'fga': None, 'fgp': None, 'ftm': None, 'fta': None, 'ftp': None, 'tpm': None, 'tpa': None, 'tpp': None, 'offReb': None, 'defReb': None, 'totReb': None, 'assists': None, 'pFouls': None, 'steals': None, 'turnovers': None, 'blocks': None, 'plusMinus': None, 'comment': 'DNP - Injury / Illness'}\n",
      "{'player': {'id': 2011, 'firstname': 'Robert', 'lastname': 'Franks'}, 'team': {'id': 26, 'name': 'Orlando Magic', 'nickname': 'Magic', 'code': 'ORL', 'logo': 'https://upload.wikimedia.org/wikipedia/fr/b/bd/Orlando_Magic_logo_2010.png'}, 'game': {'id': 8133}, 'points': 5, 'pos': None, 'min': '7:46', 'fgm': 0, 'fga': 2, 'fgp': '0.0', 'ftm': 5, 'fta': 8, 'ftp': '62.5', 'tpm': 0, 'tpa': 2, 'tpp': '0.0', 'offReb': 0, 'defReb': 0, 'totReb': 0, 'assists': 0, 'pFouls': 3, 'steals': 1, 'turnovers': 0, 'blocks': 0, 'plusMinus': '2', 'comment': None}\n",
      "{'player': {'id': 801, 'firstname': 'Jonathan', 'lastname': 'Isaac'}, 'team': {'id': 26, 'name': 'Orlando Magic', 'nickname': 'Magic', 'code': 'ORL', 'logo': 'https://upload.wikimedia.org/wikipedia/fr/b/bd/Orlando_Magic_logo_2010.png'}, 'game': {'id': 8133}, 'points': None, 'pos': None, 'min': None, 'fgm': None, 'fga': None, 'fgp': None, 'ftm': None, 'fta': None, 'ftp': None, 'tpm': None, 'tpa': None, 'tpp': None, 'offReb': None, 'defReb': None, 'totReb': None, 'assists': None, 'pFouls': None, 'steals': None, 'turnovers': None, 'blocks': None, 'plusMinus': None, 'comment': 'DND - Injury / Illness'}\n",
      "{'player': {'id': 2615, 'firstname': 'Karim', 'lastname': 'Mane'}, 'team': {'id': 26, 'name': 'Orlando Magic', 'nickname': 'Magic', 'code': 'ORL', 'logo': 'https://upload.wikimedia.org/wikipedia/fr/b/bd/Orlando_Magic_logo_2010.png'}, 'game': {'id': 8133}, 'points': 0, 'pos': None, 'min': '6:17', 'fgm': 0, 'fga': 1, 'fgp': '0.0', 'ftm': 0, 'fta': 0, 'ftp': '0.0', 'tpm': 0, 'tpa': 1, 'tpp': '0.0', 'offReb': 0, 'defReb': 2, 'totReb': 2, 'assists': 0, 'pFouls': 0, 'steals': 1, 'turnovers': 0, 'blocks': 0, 'plusMinus': '1', 'comment': None}\n",
      "{'player': {'id': 1883, 'firstname': 'Chuma', 'lastname': 'Okeke'}, 'team': {'id': 26, 'name': 'Orlando Magic', 'nickname': 'Magic', 'code': 'ORL', 'logo': 'https://upload.wikimedia.org/wikipedia/fr/b/bd/Orlando_Magic_logo_2010.png'}, 'game': {'id': 8133}, 'points': 9, 'pos': None, 'min': '14:06', 'fgm': 3, 'fga': 8, 'fgp': '37.5', 'ftm': 1, 'fta': 2, 'ftp': '50.0', 'tpm': 2, 'tpa': 5, 'tpp': '40.0', 'offReb': 1, 'defReb': 2, 'totReb': 3, 'assists': 1, 'pFouls': 3, 'steals': 0, 'turnovers': 1, 'blocks': 1, 'plusMinus': '-8', 'comment': None}\n",
      "{'player': {'id': 457, 'firstname': 'Terrence', 'lastname': 'Ross'}, 'team': {'id': 26, 'name': 'Orlando Magic', 'nickname': 'Magic', 'code': 'ORL', 'logo': 'https://upload.wikimedia.org/wikipedia/fr/b/bd/Orlando_Magic_logo_2010.png'}, 'game': {'id': 8133}, 'points': None, 'pos': None, 'min': None, 'fgm': None, 'fga': None, 'fgp': None, 'ftm': None, 'fta': None, 'ftp': None, 'tpm': None, 'tpa': None, 'tpp': None, 'offReb': None, 'defReb': None, 'totReb': None, 'assists': None, 'pFouls': None, 'steals': None, 'turnovers': None, 'blocks': None, 'plusMinus': None, 'comment': 'DND - Injury / Illness'}\n",
      "{'player': {'id': 2653, 'firstname': 'Jon', 'lastname': 'Teske'}, 'team': {'id': 26, 'name': 'Orlando Magic', 'nickname': 'Magic', 'code': 'ORL', 'logo': 'https://upload.wikimedia.org/wikipedia/fr/b/bd/Orlando_Magic_logo_2010.png'}, 'game': {'id': 8133}, 'points': 0, 'pos': None, 'min': '4:44', 'fgm': 0, 'fga': 0, 'fgp': '0.0', 'ftm': 0, 'fta': 0, 'ftp': '0.0', 'tpm': 0, 'tpa': 0, 'tpp': '0.0', 'offReb': 2, 'defReb': 2, 'totReb': 4, 'assists': 0, 'pFouls': 1, 'steals': 0, 'turnovers': 0, 'blocks': 0, 'plusMinus': '2', 'comment': None}\n",
      "{'player': {'id': 1868, 'firstname': \"De'Andre\", 'lastname': 'Hunter'}, 'team': {'id': 1, 'name': 'Atlanta Hawks', 'nickname': 'Hawks', 'code': 'ATL', 'logo': 'https://upload.wikimedia.org/wikipedia/fr/e/ee/Hawks_2016.png'}, 'game': {'id': 8133}, 'points': 18, 'pos': 'SF', 'min': '26:07', 'fgm': 5, 'fga': 10, 'fgp': '50.0', 'ftm': 6, 'fta': 8, 'ftp': '75.0', 'tpm': 2, 'tpa': 5, 'tpp': '40.0', 'offReb': 1, 'defReb': 2, 'totReb': 3, 'assists': 0, 'pFouls': 3, 'steals': 0, 'turnovers': 1, 'blocks': 1, 'plusMinus': '-9', 'comment': None}\n",
      "{'player': {'id': 761, 'firstname': 'John', 'lastname': 'Collins'}, 'team': {'id': 1, 'name': 'Atlanta Hawks', 'nickname': 'Hawks', 'code': 'ATL', 'logo': 'https://upload.wikimedia.org/wikipedia/fr/e/ee/Hawks_2016.png'}, 'game': {'id': 8133}, 'points': 14, 'pos': 'PF', 'min': '22:09', 'fgm': 4, 'fga': 6, 'fgp': '66.7', 'ftm': 5, 'fta': 6, 'ftp': '83.3', 'tpm': 1, 'tpa': 1, 'tpp': '100', 'offReb': 4, 'defReb': 5, 'totReb': 9, 'assists': 1, 'pFouls': 4, 'steals': 2, 'turnovers': 4, 'blocks': 1, 'plusMinus': '-4', 'comment': None}\n",
      "{'player': {'id': 92, 'firstname': 'Clint', 'lastname': 'Capela'}, 'team': {'id': 1, 'name': 'Atlanta Hawks', 'nickname': 'Hawks', 'code': 'ATL', 'logo': 'https://upload.wikimedia.org/wikipedia/fr/e/ee/Hawks_2016.png'}, 'game': {'id': 8133}, 'points': 8, 'pos': 'C', 'min': '20:05', 'fgm': 4, 'fga': 6, 'fgp': '66.7', 'ftm': 0, 'fta': 1, 'ftp': '0.0', 'tpm': 0, 'tpa': 0, 'tpp': '0.0', 'offReb': 5, 'defReb': 9, 'totReb': 14, 'assists': 0, 'pFouls': 0, 'steals': 0, 'turnovers': 2, 'blocks': 0, 'plusMinus': '-5', 'comment': None}\n",
      "{'player': {'id': 743, 'firstname': 'Bogdan', 'lastname': 'Bogdanovic'}, 'team': {'id': 1, 'name': 'Atlanta Hawks', 'nickname': 'Hawks', 'code': 'ATL', 'logo': 'https://upload.wikimedia.org/wikipedia/fr/e/ee/Hawks_2016.png'}, 'game': {'id': 8133}, 'points': 9, 'pos': 'SG', 'min': '23:18', 'fgm': 3, 'fga': 10, 'fgp': '30.0', 'ftm': 2, 'fta': 2, 'ftp': '100', 'tpm': 1, 'tpa': 5, 'tpp': '20.0', 'offReb': 1, 'defReb': 3, 'totReb': 4, 'assists': 2, 'pFouls': 0, 'steals': 1, 'turnovers': 1, 'blocks': 0, 'plusMinus': '10', 'comment': None}\n",
      "{'player': {'id': 1046, 'firstname': 'Trae', 'lastname': 'Young'}, 'team': {'id': 1, 'name': 'Atlanta Hawks', 'nickname': 'Hawks', 'code': 'ATL', 'logo': 'https://upload.wikimedia.org/wikipedia/fr/e/ee/Hawks_2016.png'}, 'game': {'id': 8133}, 'points': 7, 'pos': 'PG', 'min': '22:10', 'fgm': 2, 'fga': 9, 'fgp': '22.2', 'ftm': 3, 'fta': 4, 'ftp': '75.0', 'tpm': 0, 'tpa': 2, 'tpp': '0.0', 'offReb': 1, 'defReb': 1, 'totReb': 2, 'assists': 6, 'pFouls': 2, 'steals': 1, 'turnovers': 6, 'blocks': 0, 'plusMinus': '-10', 'comment': None}\n",
      "{'player': {'id': 152, 'firstname': 'Kris', 'lastname': 'Dunn'}, 'team': {'id': 1, 'name': 'Atlanta Hawks', 'nickname': 'Hawks', 'code': 'ATL', 'logo': 'https://upload.wikimedia.org/wikipedia/fr/e/ee/Hawks_2016.png'}, 'game': {'id': 8133}, 'points': None, 'pos': None, 'min': None, 'fgm': None, 'fga': None, 'fgp': None, 'ftm': None, 'fta': None, 'ftp': None, 'tpm': None, 'tpa': None, 'tpp': None, 'offReb': None, 'defReb': None, 'totReb': None, 'assists': None, 'pFouls': None, 'steals': None, 'turnovers': None, 'blocks': None, 'plusMinus': None, 'comment': 'DND - Injury / Illness'}\n",
      "{'player': {'id': 1858, 'firstname': 'Bruno', 'lastname': 'Fernando'}, 'team': {'id': 1, 'name': 'Atlanta Hawks', 'nickname': 'Hawks', 'code': 'ATL', 'logo': 'https://upload.wikimedia.org/wikipedia/fr/e/ee/Hawks_2016.png'}, 'game': {'id': 8133}, 'points': 8, 'pos': None, 'min': '17:15', 'fgm': 2, 'fga': 7, 'fgp': '28.6', 'ftm': 4, 'fta': 4, 'ftp': '100', 'tpm': 0, 'tpa': 0, 'tpp': '0.0', 'offReb': 2, 'defReb': 7, 'totReb': 9, 'assists': 0, 'pFouls': 4, 'steals': 0, 'turnovers': 0, 'blocks': 0, 'plusMinus': '-10', 'comment': None}\n",
      "{'player': {'id': 181, 'firstname': 'Danilo', 'lastname': 'Gallinari'}, 'team': {'id': 1, 'name': 'Atlanta Hawks', 'nickname': 'Hawks', 'code': 'ATL', 'logo': 'https://upload.wikimedia.org/wikipedia/fr/e/ee/Hawks_2016.png'}, 'game': {'id': 8133}, 'points': 14, 'pos': None, 'min': '20:15', 'fgm': 3, 'fga': 7, 'fgp': '42.9', 'ftm': 7, 'fta': 8, 'ftp': '87.5', 'tpm': 1, 'tpa': 5, 'tpp': '20.0', 'offReb': 0, 'defReb': 4, 'totReb': 4, 'assists': 0, 'pFouls': 2, 'steals': 1, 'turnovers': 0, 'blocks': 1, 'plusMinus': '14', 'comment': None}\n",
      "{'player': {'id': 1063, 'firstname': 'Brandon', 'lastname': 'Goodwin'}, 'team': {'id': 1, 'name': 'Atlanta Hawks', 'nickname': 'Hawks', 'code': 'ATL', 'logo': 'https://upload.wikimedia.org/wikipedia/fr/e/ee/Hawks_2016.png'}, 'game': {'id': 8133}, 'points': 7, 'pos': None, 'min': '17:58', 'fgm': 3, 'fga': 10, 'fgp': '30.0', 'ftm': 0, 'fta': 0, 'ftp': '0.0', 'tpm': 1, 'tpa': 3, 'tpp': '33.3', 'offReb': 1, 'defReb': 1, 'totReb': 2, 'assists': 3, 'pFouls': 1, 'steals': 0, 'turnovers': 2, 'blocks': 0, 'plusMinus': '-4', 'comment': None}\n",
      "{'player': {'id': 239, 'firstname': 'Solomon', 'lastname': 'Hill'}, 'team': {'id': 1, 'name': 'Atlanta Hawks', 'nickname': 'Hawks', 'code': 'ATL', 'logo': 'https://upload.wikimedia.org/wikipedia/fr/e/ee/Hawks_2016.png'}, 'game': {'id': 8133}, 'points': 3, 'pos': None, 'min': '15:06', 'fgm': 1, 'fga': 2, 'fgp': '50.0', 'ftm': 0, 'fta': 0, 'ftp': '0.0', 'tpm': 1, 'tpa': 2, 'tpp': '50.0', 'offReb': 0, 'defReb': 1, 'totReb': 1, 'assists': 1, 'pFouls': 2, 'steals': 1, 'turnovers': 0, 'blocks': 0, 'plusMinus': '-3', 'comment': None}\n",
      "{'player': {'id': 980, 'firstname': 'Kevin', 'lastname': 'Huerter'}, 'team': {'id': 1, 'name': 'Atlanta Hawks', 'nickname': 'Hawks', 'code': 'ATL', 'logo': 'https://upload.wikimedia.org/wikipedia/fr/e/ee/Hawks_2016.png'}, 'game': {'id': 8133}, 'points': 8, 'pos': None, 'min': '21:24', 'fgm': 3, 'fga': 11, 'fgp': '27.3', 'ftm': 0, 'fta': 0, 'ftp': '0.0', 'tpm': 2, 'tpa': 5, 'tpp': '40.0', 'offReb': 1, 'defReb': 0, 'totReb': 1, 'assists': 3, 'pFouls': 2, 'steals': 1, 'turnovers': 1, 'blocks': 1, 'plusMinus': '5', 'comment': None}\n",
      "{'player': {'id': 2607, 'firstname': 'Nathan', 'lastname': 'Knight'}, 'team': {'id': 1, 'name': 'Atlanta Hawks', 'nickname': 'Hawks', 'code': 'ATL', 'logo': 'https://upload.wikimedia.org/wikipedia/fr/e/ee/Hawks_2016.png'}, 'game': {'id': 8133}, 'points': 0, 'pos': None, 'min': '5:43', 'fgm': 0, 'fga': 1, 'fgp': '0.0', 'ftm': 0, 'fta': 0, 'ftp': '0.0', 'tpm': 0, 'tpa': 0, 'tpp': '0.0', 'offReb': 1, 'defReb': 2, 'totReb': 3, 'assists': 0, 'pFouls': 2, 'steals': 0, 'turnovers': 0, 'blocks': 0, 'plusMinus': '0', 'comment': None}\n",
      "{'player': {'id': 2620, 'firstname': 'Skylar', 'lastname': 'Mays'}, 'team': {'id': 1, 'name': 'Atlanta Hawks', 'nickname': 'Hawks', 'code': 'ATL', 'logo': 'https://upload.wikimedia.org/wikipedia/fr/e/ee/Hawks_2016.png'}, 'game': {'id': 8133}, 'points': 3, 'pos': None, 'min': '5:30', 'fgm': 0, 'fga': 3, 'fgp': '0.0', 'ftm': 3, 'fta': 4, 'ftp': '75.0', 'tpm': 0, 'tpa': 1, 'tpp': '0.0', 'offReb': 1, 'defReb': 0, 'totReb': 1, 'assists': 1, 'pFouls': 1, 'steals': 0, 'turnovers': 0, 'blocks': 0, 'plusMinus': '-2', 'comment': None}\n",
      "{'player': {'id': 2629, 'firstname': 'Onyeka', 'lastname': 'Okongwu'}, 'team': {'id': 1, 'name': 'Atlanta Hawks', 'nickname': 'Hawks', 'code': 'ATL', 'logo': 'https://upload.wikimedia.org/wikipedia/fr/e/ee/Hawks_2016.png'}, 'game': {'id': 8133}, 'points': None, 'pos': None, 'min': None, 'fgm': None, 'fga': None, 'fgp': None, 'ftm': None, 'fta': None, 'ftp': None, 'tpm': None, 'tpa': None, 'tpp': None, 'offReb': None, 'defReb': None, 'totReb': None, 'assists': None, 'pFouls': None, 'steals': None, 'turnovers': None, 'blocks': None, 'plusMinus': None, 'comment': 'DND - Injury / Illness'}\n",
      "{'player': {'id': 1889, 'firstname': 'Cam', 'lastname': 'Reddish'}, 'team': {'id': 1, 'name': 'Atlanta Hawks', 'nickname': 'Hawks', 'code': 'ATL', 'logo': 'https://upload.wikimedia.org/wikipedia/fr/e/ee/Hawks_2016.png'}, 'game': {'id': 8133}, 'points': 13, 'pos': None, 'min': '22:58', 'fgm': 4, 'fga': 10, 'fgp': '40.0', 'ftm': 4, 'fta': 4, 'ftp': '100', 'tpm': 1, 'tpa': 3, 'tpp': '33.3', 'offReb': 1, 'defReb': 7, 'totReb': 8, 'assists': 3, 'pFouls': 2, 'steals': 1, 'turnovers': 6, 'blocks': 0, 'plusMinus': '-2', 'comment': None}\n",
      "{'player': {'id': 455, 'firstname': 'Rajon', 'lastname': 'Rondo'}, 'team': {'id': 1, 'name': 'Atlanta Hawks', 'nickname': 'Hawks', 'code': 'ATL', 'logo': 'https://upload.wikimedia.org/wikipedia/fr/e/ee/Hawks_2016.png'}, 'game': {'id': 8133}, 'points': None, 'pos': None, 'min': None, 'fgm': None, 'fga': None, 'fgp': None, 'ftm': None, 'fta': None, 'ftp': None, 'tpm': None, 'tpa': None, 'tpp': None, 'offReb': None, 'defReb': None, 'totReb': None, 'assists': None, 'pFouls': None, 'steals': None, 'turnovers': None, 'blocks': None, 'plusMinus': None, 'comment': 'DND - Injury / Illness'}\n",
      "{'player': {'id': 492, 'firstname': 'Tony', 'lastname': 'Snell'}, 'team': {'id': 1, 'name': 'Atlanta Hawks', 'nickname': 'Hawks', 'code': 'ATL', 'logo': 'https://upload.wikimedia.org/wikipedia/fr/e/ee/Hawks_2016.png'}, 'game': {'id': 8133}, 'points': None, 'pos': None, 'min': None, 'fgm': None, 'fga': None, 'fgp': None, 'ftm': None, 'fta': None, 'ftp': None, 'tpm': None, 'tpa': None, 'tpp': None, 'offReb': None, 'defReb': None, 'totReb': None, 'assists': None, 'pFouls': None, 'steals': None, 'turnovers': None, 'blocks': None, 'plusMinus': None, 'comment': 'NWT - Injury / Illness'}\n"
     ]
    }
   ],
   "source": [
    "temp = games['1']['response']\n",
    "for item in temp:\n",
    "    print(item)"
   ]
  },
  {
   "cell_type": "code",
   "execution_count": null,
   "metadata": {},
   "outputs": [],
   "source": []
  }
 ],
 "metadata": {
  "kernelspec": {
   "display_name": "Python 3",
   "language": "python",
   "name": "python3"
  },
  "language_info": {
   "codemirror_mode": {
    "name": "ipython",
    "version": 3
   },
   "file_extension": ".py",
   "mimetype": "text/x-python",
   "name": "python",
   "nbconvert_exporter": "python",
   "pygments_lexer": "ipython3",
   "version": "3.10.11"
  }
 },
 "nbformat": 4,
 "nbformat_minor": 2
}
